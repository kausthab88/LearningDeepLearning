{
  "nbformat": 4,
  "nbformat_minor": 0,
  "metadata": {
    "colab": {
      "provenance": [],
      "authorship_tag": "ABX9TyNK7wfcyveIbo5m1MHfW0WH",
      "include_colab_link": true
    },
    "kernelspec": {
      "name": "python3",
      "display_name": "Python 3"
    },
    "language_info": {
      "name": "python"
    }
  },
  "cells": [
    {
      "cell_type": "markdown",
      "metadata": {
        "id": "view-in-github",
        "colab_type": "text"
      },
      "source": [
        "<a href=\"https://colab.research.google.com/github/kausthab88/LearningDeepLearning/blob/main/Tensor_Dot_Product.ipynb\" target=\"_parent\"><img src=\"https://colab.research.google.com/assets/colab-badge.svg\" alt=\"Open In Colab\"/></a>"
      ]
    },
    {
      "cell_type": "code",
      "source": [
        "import tensorflow as tf"
      ],
      "metadata": {
        "id": "WZW-CvVIRv7J"
      },
      "execution_count": 3,
      "outputs": []
    },
    {
      "cell_type": "markdown",
      "source": [
        "#### **What is a dot product?**\n",
        "\n",
        "The dot product of two vectors \n",
        "\n",
        "a = [a1, a2, ..., an] and b = [b1, b2, ..., bn] is computed as:\n",
        "\n",
        "a.b = a1xb1 + a2xb2 + ... + anxbn\n",
        "\n",
        "**Note:** Dot product terminology is used only for vectors resulting in a scalar. When dealing with higher order tensors, we often use terms like \"tensor product\", \"tensor contraction\", or \"matrix multiplication\", because these operations can result in a tensor of various ranks, not just a scalar."
      ],
      "metadata": {
        "id": "qZKp5-GkTbNU"
      }
    },
    {
      "cell_type": "markdown",
      "metadata": {
        "id": "XtIFcEnWKmbe"
      },
      "source": [
        "**The Dot Product**\n",
        "\n",
        "We can also use `tf.tensordot()` as well for performing matrix multiplication in addition to `tf.matmul()`"
      ]
    },
    {
      "cell_type": "code",
      "execution_count": 4,
      "metadata": {
        "colab": {
          "base_uri": "https://localhost:8080/"
        },
        "id": "bxwnnDxb-U_b",
        "outputId": "73391d20-b7da-4b0a-c9a9-c56fc56578e5"
      },
      "outputs": [
        {
          "output_type": "execute_result",
          "data": {
            "text/plain": [
              "(<tf.Tensor: shape=(3, 2), dtype=int32, numpy=\n",
              " array([[1, 2],\n",
              "        [3, 4],\n",
              "        [5, 6]], dtype=int32)>,\n",
              " <tf.Tensor: shape=(3, 2), dtype=int32, numpy=\n",
              " array([[ 7,  8],\n",
              "        [ 9, 10],\n",
              "        [11, 12]], dtype=int32)>)"
            ]
          },
          "metadata": {},
          "execution_count": 4
        }
      ],
      "source": [
        "# create a tensor with shape (3,2)\n",
        "\n",
        "X = tf.constant([[1,2],\n",
        "                [3,4],\n",
        "                [5,6]])\n",
        "\n",
        "#create another tensor of same shape\n",
        "\n",
        "Y = tf.constant([[7,8],\n",
        "                [9,10],\n",
        "                [11,12]])\n",
        "\n",
        "X,Y"
      ]
    },
    {
      "cell_type": "markdown",
      "source": [
        "When axes = 1, a normal dot product is carried out"
      ],
      "metadata": {
        "id": "Zt9W9EPbbnRt"
      }
    },
    {
      "cell_type": "code",
      "execution_count": 5,
      "metadata": {
        "colab": {
          "base_uri": "https://localhost:8080/"
        },
        "id": "ZkuIUBe--U7P",
        "outputId": "497ad6ef-792b-49ae-ad2b-967e60d17283"
      },
      "outputs": [
        {
          "output_type": "execute_result",
          "data": {
            "text/plain": [
              "<tf.Tensor: shape=(2, 2), dtype=int32, numpy=\n",
              "array([[ 89,  98],\n",
              "       [116, 128]], dtype=int32)>"
            ]
          },
          "metadata": {},
          "execution_count": 5
        }
      ],
      "source": [
        "#Matrix Multiplication with tensordot and transposing X\n",
        "tf.tensordot(tf.transpose(X),Y,axes=1)"
      ]
    },
    {
      "cell_type": "code",
      "execution_count": 6,
      "metadata": {
        "colab": {
          "base_uri": "https://localhost:8080/"
        },
        "id": "7ohtCacS-Uzn",
        "outputId": "1851d368-df0e-407d-d915-019fa6eba7ab"
      },
      "outputs": [
        {
          "output_type": "execute_result",
          "data": {
            "text/plain": [
              "<tf.Tensor: shape=(2, 2), dtype=int32, numpy=\n",
              "array([[ 89,  98],\n",
              "       [116, 128]], dtype=int32)>"
            ]
          },
          "metadata": {},
          "execution_count": 6
        }
      ],
      "source": [
        "tf.matmul(tf.transpose(X),Y)"
      ]
    },
    {
      "cell_type": "code",
      "execution_count": 7,
      "metadata": {
        "colab": {
          "base_uri": "https://localhost:8080/"
        },
        "id": "oB8pi3qz-Uqf",
        "outputId": "e9b44eaa-a64a-43ff-86de-16c37175a4bd"
      },
      "outputs": [
        {
          "output_type": "execute_result",
          "data": {
            "text/plain": [
              "<tf.Tensor: shape=(3, 3), dtype=int32, numpy=\n",
              "array([[ 27,  30,  33],\n",
              "       [ 61,  68,  75],\n",
              "       [ 95, 106, 117]], dtype=int32)>"
            ]
          },
          "metadata": {},
          "execution_count": 7
        }
      ],
      "source": [
        "#Matrix multiplication with X and Y reshaped\n",
        "\n",
        "tf.matmul(X,tf.reshape(Y, shape = (2,3)))"
      ]
    },
    {
      "cell_type": "code",
      "execution_count": 8,
      "metadata": {
        "colab": {
          "base_uri": "https://localhost:8080/"
        },
        "id": "dmT-AQdv3CRx",
        "outputId": "4e92cb55-b5f9-4030-ac64-b7d1e9d5ba95"
      },
      "outputs": [
        {
          "output_type": "stream",
          "name": "stdout",
          "text": [
            "normal Y:  tf.Tensor(\n",
            "[[ 7  8]\n",
            " [ 9 10]\n",
            " [11 12]], shape=(3, 2), dtype=int32)\n",
            "\n",
            "\n",
            "reshape Y:  tf.Tensor(\n",
            "[[ 7  8  9]\n",
            " [10 11 12]], shape=(2, 3), dtype=int32)\n",
            "\n",
            "\n",
            "Transposed Y:  tf.Tensor(\n",
            "[[ 7  9 11]\n",
            " [ 8 10 12]], shape=(2, 3), dtype=int32)\n"
          ]
        }
      ],
      "source": [
        "#check the values of : Y, reshape Y and transpose Y\n",
        "\n",
        "print('normal Y: ', Y)\n",
        "print('\\n')\n",
        "print('reshape Y: ', tf.reshape(Y,shape = (2,3)))\n",
        "print('\\n')\n",
        "print('Transposed Y: ', tf.transpose(Y))"
      ]
    },
    {
      "cell_type": "code",
      "execution_count": 9,
      "metadata": {
        "colab": {
          "base_uri": "https://localhost:8080/"
        },
        "id": "QIQlLGAe3CPa",
        "outputId": "82b737e8-55f6-4d53-8a66-a3aec9d5b1d6"
      },
      "outputs": [
        {
          "output_type": "execute_result",
          "data": {
            "text/plain": [
              "<tf.Tensor: shape=(3, 3), dtype=int32, numpy=\n",
              "array([[ 23,  29,  35],\n",
              "       [ 53,  67,  81],\n",
              "       [ 83, 105, 127]], dtype=int32)>"
            ]
          },
          "metadata": {},
          "execution_count": 9
        }
      ],
      "source": [
        "tf.matmul(X,tf.transpose(Y))"
      ]
    },
    {
      "cell_type": "code",
      "execution_count": 10,
      "metadata": {
        "colab": {
          "base_uri": "https://localhost:8080/"
        },
        "id": "GtkswfUI3CNB",
        "outputId": "c735d874-25a9-4655-a4ca-10f7fbe2db7e"
      },
      "outputs": [
        {
          "output_type": "execute_result",
          "data": {
            "text/plain": [
              "<tf.Tensor: shape=(2, 2), dtype=int32, numpy=\n",
              "array([[1, 2],\n",
              "       [3, 4]], dtype=int32)>"
            ]
          },
          "metadata": {},
          "execution_count": 10
        }
      ],
      "source": [
        "a = tf.constant([[1,2],[3,4]])\n",
        "a"
      ]
    },
    {
      "cell_type": "code",
      "execution_count": 11,
      "metadata": {
        "colab": {
          "base_uri": "https://localhost:8080/"
        },
        "id": "BdYDyHTh3CKe",
        "outputId": "5f5a33ac-f85d-469c-8dc3-22480ea0f1a1"
      },
      "outputs": [
        {
          "output_type": "execute_result",
          "data": {
            "text/plain": [
              "<tf.Tensor: shape=(2, 2), dtype=int32, numpy=\n",
              "array([[1, 2],\n",
              "       [1, 1]], dtype=int32)>"
            ]
          },
          "metadata": {},
          "execution_count": 11
        }
      ],
      "source": [
        "b = tf.constant([[1,2],[1,1]])\n",
        "b"
      ]
    },
    {
      "cell_type": "markdown",
      "source": [
        "When we use axes = 0, we're not summing over any axes. Instead, we're taking an outer product of the two tensors, an outer product can be thought of as a way to combine every element from the first tensor with every element from the second tensor.\n",
        "\n",
        "We see below that the resultant is a 4D tensor wherein the first two dimensions are from \"a\", and the last two dimensions are from \"b\""
      ],
      "metadata": {
        "id": "eLW--xIHbCm9"
      }
    },
    {
      "cell_type": "code",
      "execution_count": 12,
      "metadata": {
        "colab": {
          "base_uri": "https://localhost:8080/"
        },
        "id": "U065lLgg3CIU",
        "outputId": "3d264cea-21cf-4bf9-e238-e087b148970d"
      },
      "outputs": [
        {
          "output_type": "execute_result",
          "data": {
            "text/plain": [
              "<tf.Tensor: shape=(2, 2, 2, 2), dtype=int32, numpy=\n",
              "array([[[[1, 2],\n",
              "         [1, 1]],\n",
              "\n",
              "        [[2, 4],\n",
              "         [2, 2]]],\n",
              "\n",
              "\n",
              "       [[[3, 6],\n",
              "         [3, 3]],\n",
              "\n",
              "        [[4, 8],\n",
              "         [4, 4]]]], dtype=int32)>"
            ]
          },
          "metadata": {},
          "execution_count": 12
        }
      ],
      "source": [
        "tf.tensordot(a,b,axes = 0)"
      ]
    },
    {
      "cell_type": "code",
      "execution_count": 13,
      "metadata": {
        "colab": {
          "base_uri": "https://localhost:8080/"
        },
        "id": "aRj4o2LE3CGM",
        "outputId": "a948a76e-0053-467d-b818-c5ff89e7afed"
      },
      "outputs": [
        {
          "output_type": "execute_result",
          "data": {
            "text/plain": [
              "<tf.Tensor: shape=(3, 2), dtype=int32, numpy=\n",
              "array([[1, 1],\n",
              "       [1, 1],\n",
              "       [1, 1]], dtype=int32)>"
            ]
          },
          "metadata": {},
          "execution_count": 13
        }
      ],
      "source": [
        "b = tf.constant([[1,1],[1,1],[1,1]])\n",
        "b"
      ]
    },
    {
      "cell_type": "code",
      "execution_count": 14,
      "metadata": {
        "colab": {
          "base_uri": "https://localhost:8080/"
        },
        "id": "coW6iUrd3CDX",
        "outputId": "58d76304-059f-453a-e5e3-3175c5cda7af"
      },
      "outputs": [
        {
          "output_type": "execute_result",
          "data": {
            "text/plain": [
              "<tf.Tensor: shape=(2, 2, 3, 2), dtype=int32, numpy=\n",
              "array([[[[1, 1],\n",
              "         [1, 1],\n",
              "         [1, 1]],\n",
              "\n",
              "        [[2, 2],\n",
              "         [2, 2],\n",
              "         [2, 2]]],\n",
              "\n",
              "\n",
              "       [[[3, 3],\n",
              "         [3, 3],\n",
              "         [3, 3]],\n",
              "\n",
              "        [[4, 4],\n",
              "         [4, 4],\n",
              "         [4, 4]]]], dtype=int32)>"
            ]
          },
          "metadata": {},
          "execution_count": 14
        }
      ],
      "source": [
        "tf.tensordot(a,b,axes = 0)"
      ]
    },
    {
      "cell_type": "markdown",
      "source": [
        "**We will encounter dot product in Neural Networks while calculating the output y of any network, hence it becomes very important to understand the concept of dot product**"
      ],
      "metadata": {
        "id": "a2z_I627cwEh"
      }
    }
  ]
}