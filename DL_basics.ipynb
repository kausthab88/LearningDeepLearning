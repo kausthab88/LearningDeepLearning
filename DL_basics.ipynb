{
  "cells": [
    {
      "cell_type": "markdown",
      "metadata": {
        "id": "view-in-github",
        "colab_type": "text"
      },
      "source": [
        "<a href=\"https://colab.research.google.com/github/kausthab88/LearningDeepLearning/blob/main/DL_basics.ipynb\" target=\"_parent\"><img src=\"https://colab.research.google.com/assets/colab-badge.svg\" alt=\"Open In Colab\"/></a>"
      ]
    },
    {
      "cell_type": "markdown",
      "metadata": {
        "id": "Mzxaa0A3ohLb"
      },
      "source": [
        "# **Intro to Tensors**"
      ]
    },
    {
      "cell_type": "code",
      "execution_count": 1,
      "metadata": {
        "id": "phWxHuWIolGP",
        "colab": {
          "base_uri": "https://localhost:8080/"
        },
        "outputId": "897d2a93-f2c6-4d50-c112-b5d2475c21fe"
      },
      "outputs": [
        {
          "output_type": "stream",
          "name": "stdout",
          "text": [
            "2.12.0\n"
          ]
        }
      ],
      "source": [
        "#import TensorFlow\n",
        "\n",
        "import tensorflow as tf \n",
        "print(tf.__version__)"
      ]
    },
    {
      "cell_type": "markdown",
      "source": [
        "#### 1. **Scalar**\n",
        "\n",
        "A scalar is a mathematical object with just a single number"
      ],
      "metadata": {
        "id": "idRzWOTLU4AT"
      }
    },
    {
      "cell_type": "code",
      "execution_count": 2,
      "metadata": {
        "id": "_WN14anAqffH",
        "colab": {
          "base_uri": "https://localhost:8080/"
        },
        "outputId": "20ee606e-b180-4a65-cf8a-35993a0776c0"
      },
      "outputs": [
        {
          "output_type": "execute_result",
          "data": {
            "text/plain": [
              "<tf.Tensor: shape=(), dtype=int32, numpy=7>"
            ]
          },
          "metadata": {},
          "execution_count": 2
        }
      ],
      "source": [
        "#creating tensors with tf.constant()\n",
        "\n",
        "scalar = tf.constant(7)\n",
        "scalar"
      ]
    },
    {
      "cell_type": "markdown",
      "source": [
        "##### A scalar will have a dimension of 0. Since it is just a single number it does not have any dimensions"
      ],
      "metadata": {
        "id": "fgizfdYVAW8O"
      }
    },
    {
      "cell_type": "code",
      "execution_count": 3,
      "metadata": {
        "id": "jKSlYCxyc1Yl",
        "colab": {
          "base_uri": "https://localhost:8080/"
        },
        "outputId": "c46d2f1b-c1bb-4665-8c88-4510a3be5fa9"
      },
      "outputs": [
        {
          "output_type": "execute_result",
          "data": {
            "text/plain": [
              "0"
            ]
          },
          "metadata": {},
          "execution_count": 3
        }
      ],
      "source": [
        "#checking dimension of scalar\n",
        "\n",
        "scalar.ndim #ndim stands for the number of dimensions"
      ]
    },
    {
      "cell_type": "markdown",
      "source": [
        "#### 2. **Vector**\n",
        "\n",
        "A vector is an array of numbers (or 1D array )and is ordered as such. We can identify each number by its index in that ordering. This indexing is the same as we index a list\n",
        "\n",
        "\n",
        "\n"
      ],
      "metadata": {
        "id": "d0DS8P2fA_u1"
      }
    },
    {
      "cell_type": "code",
      "execution_count": 4,
      "metadata": {
        "id": "XdTgjmffuMk_",
        "colab": {
          "base_uri": "https://localhost:8080/"
        },
        "outputId": "39ce2cc0-8e44-4bab-d4a2-3f296fbee65b"
      },
      "outputs": [
        {
          "output_type": "execute_result",
          "data": {
            "text/plain": [
              "<tf.Tensor: shape=(2,), dtype=int32, numpy=array([10, 20], dtype=int32)>"
            ]
          },
          "metadata": {},
          "execution_count": 4
        }
      ],
      "source": [
        "#create a vector\n",
        "\n",
        "vector = tf.constant([10,20])\n",
        "vector"
      ]
    },
    {
      "cell_type": "markdown",
      "source": [
        "##### A vector is always 1 dimensional"
      ],
      "metadata": {
        "id": "T6zFGVgrXxJk"
      }
    },
    {
      "cell_type": "code",
      "source": [
        "#indexing a vector\n",
        "\n",
        "vector[1]"
      ],
      "metadata": {
        "colab": {
          "base_uri": "https://localhost:8080/"
        },
        "id": "7mKoxJrzYVwH",
        "outputId": "5aae5a1f-4ef8-4772-8355-75279537a0a7"
      },
      "execution_count": 5,
      "outputs": [
        {
          "output_type": "execute_result",
          "data": {
            "text/plain": [
              "<tf.Tensor: shape=(), dtype=int32, numpy=20>"
            ]
          },
          "metadata": {},
          "execution_count": 5
        }
      ]
    },
    {
      "cell_type": "code",
      "execution_count": 6,
      "metadata": {
        "id": "EaLzi1JWuWoO",
        "colab": {
          "base_uri": "https://localhost:8080/"
        },
        "outputId": "000c614d-349e-4c96-b48a-b07151db62f3"
      },
      "outputs": [
        {
          "output_type": "execute_result",
          "data": {
            "text/plain": [
              "1"
            ]
          },
          "metadata": {},
          "execution_count": 6
        }
      ],
      "source": [
        "#check the dimension of the vector\n",
        "\n",
        "vector.ndim"
      ]
    },
    {
      "cell_type": "markdown",
      "source": [
        "#### 3. Matrix\n",
        "\n",
        "A matrix is a 2D array and hence each element is identified by two indices and not one\n"
      ],
      "metadata": {
        "id": "MsllFo7iX4bQ"
      }
    },
    {
      "cell_type": "code",
      "execution_count": 7,
      "metadata": {
        "id": "IAogXENXvfkz",
        "colab": {
          "base_uri": "https://localhost:8080/"
        },
        "outputId": "92538223-aacc-46b6-a381-73561689dc58"
      },
      "outputs": [
        {
          "output_type": "execute_result",
          "data": {
            "text/plain": [
              "<tf.Tensor: shape=(2, 2), dtype=int32, numpy=\n",
              "array([[10,  7],\n",
              "       [ 7, 10]], dtype=int32)>"
            ]
          },
          "metadata": {},
          "execution_count": 7
        }
      ],
      "source": [
        "#create a matrix (has more than 1 dimension)\n",
        "\n",
        "matrix = tf.constant([[10,7],[7,10]])\n",
        "matrix"
      ]
    },
    {
      "cell_type": "code",
      "execution_count": 8,
      "metadata": {
        "id": "2NwfqIYOv2iU",
        "colab": {
          "base_uri": "https://localhost:8080/"
        },
        "outputId": "9d27cfe4-0f41-4a67-ea0a-f18a00315f95"
      },
      "outputs": [
        {
          "output_type": "execute_result",
          "data": {
            "text/plain": [
              "2"
            ]
          },
          "metadata": {},
          "execution_count": 8
        }
      ],
      "source": [
        "matrix.ndim #checking the dimensions of matrix"
      ]
    },
    {
      "cell_type": "markdown",
      "source": [
        "#### We can specify the datatype of the matrix with the *dtype* parameter"
      ],
      "metadata": {
        "id": "saFq9MMMYvn5"
      }
    },
    {
      "cell_type": "code",
      "execution_count": 9,
      "metadata": {
        "id": "WJRmCCPUv7hn",
        "colab": {
          "base_uri": "https://localhost:8080/"
        },
        "outputId": "f7c9f162-07d4-485c-cd28-74894f13d09c"
      },
      "outputs": [
        {
          "output_type": "execute_result",
          "data": {
            "text/plain": [
              "<tf.Tensor: shape=(3, 2), dtype=float32, numpy=\n",
              "array([[1., 2.],\n",
              "       [4., 5.],\n",
              "       [7., 8.]], dtype=float32)>"
            ]
          },
          "metadata": {},
          "execution_count": 9
        }
      ],
      "source": [
        "#create another matrix\n",
        "\n",
        "another_matrix = tf.constant([[1.,2.],\n",
        "                              [4.,5.],\n",
        "                              [7.,8.]],dtype=tf.float32) #specify data type with dtype parameter\n",
        "another_matrix"
      ]
    },
    {
      "cell_type": "code",
      "execution_count": 10,
      "metadata": {
        "id": "t2j_uFSHwc9Y",
        "colab": {
          "base_uri": "https://localhost:8080/"
        },
        "outputId": "db89a617-701c-47ea-e4a8-11567f5c1782"
      },
      "outputs": [
        {
          "output_type": "execute_result",
          "data": {
            "text/plain": [
              "2"
            ]
          },
          "metadata": {},
          "execution_count": 10
        }
      ],
      "source": [
        "#number of dimensions for a matrix\n",
        "another_matrix.ndim"
      ]
    },
    {
      "cell_type": "markdown",
      "source": [
        "#### 4. Tensors\n",
        "\n",
        "A tensor is a multi-dimensional matrix. That means it has more than 2 axes (unlike a matrix). "
      ],
      "metadata": {
        "id": "OP6tV_BOY7vk"
      }
    },
    {
      "cell_type": "code",
      "execution_count": 11,
      "metadata": {
        "id": "SWTlXCQ2wtiC",
        "colab": {
          "base_uri": "https://localhost:8080/"
        },
        "outputId": "78d87669-eda9-45a1-e359-3d42970d3c85"
      },
      "outputs": [
        {
          "output_type": "execute_result",
          "data": {
            "text/plain": [
              "<tf.Tensor: shape=(3, 2, 3), dtype=int32, numpy=\n",
              "array([[[ 1,  2,  3],\n",
              "        [ 5,  6,  7]],\n",
              "\n",
              "       [[ 7,  8,  9],\n",
              "        [11, 12, 13]],\n",
              "\n",
              "       [[15, 16, 17],\n",
              "        [21, 22, 23]]], dtype=int32)>"
            ]
          },
          "metadata": {},
          "execution_count": 11
        }
      ],
      "source": [
        "#creating a tensor\n",
        "\n",
        "tensor = tf.constant([[[1,2,3],\n",
        "                       [5,6,7]],\n",
        "                      \n",
        "                       [[7,8,9],\n",
        "                      [11,12,13]],\n",
        "                      \n",
        "                      [[15,16,17],\n",
        "                       [21,22,23]]]\n",
        "                     )\n",
        "tensor"
      ]
    },
    {
      "cell_type": "code",
      "execution_count": 12,
      "metadata": {
        "id": "rbxAQ4lrxbz4",
        "colab": {
          "base_uri": "https://localhost:8080/"
        },
        "outputId": "9e9443d5-a7be-4f17-df7c-9c9a426b1018"
      },
      "outputs": [
        {
          "output_type": "execute_result",
          "data": {
            "text/plain": [
              "3"
            ]
          },
          "metadata": {},
          "execution_count": 12
        }
      ],
      "source": [
        "tensor.ndim #checking the dimensions of a tensors"
      ]
    },
    {
      "cell_type": "markdown",
      "metadata": {
        "id": "Og7Qqb5NyR3R"
      },
      "source": [
        "So far we have learnt:\n",
        " \n",
        "* A scalar is a single number\n",
        "* Vector: a number with direction (e.g speed of a boat going in a particular direction)\n",
        "* Matrix: 2 dimensional array of numbers\n",
        "* Tensor: an n-dimensional array of numbers(where n can attain any value: a 0-dimensional tensor is a scalar, a 1-dimensional tensor is a vector, 2-dimensional tensor is a matrix)"
      ]
    }
  ],
  "metadata": {
    "accelerator": "GPU",
    "colab": {
      "provenance": [],
      "authorship_tag": "ABX9TyO/e3yc857g8CroHG8c0X2U",
      "include_colab_link": true
    },
    "gpuClass": "standard",
    "kernelspec": {
      "display_name": "Python 3",
      "name": "python3"
    },
    "language_info": {
      "name": "python"
    }
  },
  "nbformat": 4,
  "nbformat_minor": 0
}