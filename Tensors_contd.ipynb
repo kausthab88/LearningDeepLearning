{
  "nbformat": 4,
  "nbformat_minor": 0,
  "metadata": {
    "colab": {
      "provenance": [],
      "authorship_tag": "ABX9TyOpP9BD4aTuhy0zDDNduzOZ",
      "include_colab_link": true
    },
    "kernelspec": {
      "name": "python3",
      "display_name": "Python 3"
    },
    "language_info": {
      "name": "python"
    }
  },
  "cells": [
    {
      "cell_type": "markdown",
      "metadata": {
        "id": "view-in-github",
        "colab_type": "text"
      },
      "source": [
        "<a href=\"https://colab.research.google.com/github/kausthab88/LearningDeepLearning/blob/main/Tensors_contd.ipynb\" target=\"_parent\"><img src=\"https://colab.research.google.com/assets/colab-badge.svg\" alt=\"Open In Colab\"/></a>"
      ]
    },
    {
      "cell_type": "code",
      "execution_count": 2,
      "metadata": {
        "id": "lpUIp-xQV9wN"
      },
      "outputs": [],
      "source": [
        "# Other ways to make tensors\n",
        "import tensorflow as tf\n",
        "import numpy as np"
      ]
    },
    {
      "cell_type": "markdown",
      "source": [
        "#### tf.ones creates a tensor that fills the shape with ones. It takes the shape of the parent matrix or tensor"
      ],
      "metadata": {
        "id": "3Z_C3EoxSbFb"
      }
    },
    {
      "cell_type": "code",
      "execution_count": 3,
      "metadata": {
        "colab": {
          "base_uri": "https://localhost:8080/"
        },
        "id": "hh7XEeYRV9t0",
        "outputId": "78b6876f-a500-4e87-83ab-7d791c1cc4a4"
      },
      "outputs": [
        {
          "output_type": "execute_result",
          "data": {
            "text/plain": [
              "<tf.Tensor: shape=(10, 7), dtype=float32, numpy=\n",
              "array([[1., 1., 1., 1., 1., 1., 1.],\n",
              "       [1., 1., 1., 1., 1., 1., 1.],\n",
              "       [1., 1., 1., 1., 1., 1., 1.],\n",
              "       [1., 1., 1., 1., 1., 1., 1.],\n",
              "       [1., 1., 1., 1., 1., 1., 1.],\n",
              "       [1., 1., 1., 1., 1., 1., 1.],\n",
              "       [1., 1., 1., 1., 1., 1., 1.],\n",
              "       [1., 1., 1., 1., 1., 1., 1.],\n",
              "       [1., 1., 1., 1., 1., 1., 1.],\n",
              "       [1., 1., 1., 1., 1., 1., 1.]], dtype=float32)>"
            ]
          },
          "metadata": {},
          "execution_count": 3
        }
      ],
      "source": [
        "#tensor of all ones\n",
        "tensor_ones = tf.ones(shape = {10,7}) #for shape we can use a list and a tuple and a set as well\n",
        "tensor_ones"
      ]
    },
    {
      "cell_type": "markdown",
      "source": [
        "#### tf.zeros is similar to tf.ones, just fills the matrix or tensor with zeros"
      ],
      "metadata": {
        "id": "Wh47S8WuVuOf"
      }
    },
    {
      "cell_type": "code",
      "execution_count": 4,
      "metadata": {
        "colab": {
          "base_uri": "https://localhost:8080/"
        },
        "id": "qfhSkiKjV9rh",
        "outputId": "36ff6565-9d1f-492a-8e6e-265aec8815af"
      },
      "outputs": [
        {
          "output_type": "execute_result",
          "data": {
            "text/plain": [
              "<tf.Tensor: shape=(10, 10), dtype=float32, numpy=\n",
              "array([[0., 0., 0., 0., 0., 0., 0., 0., 0., 0.],\n",
              "       [0., 0., 0., 0., 0., 0., 0., 0., 0., 0.],\n",
              "       [0., 0., 0., 0., 0., 0., 0., 0., 0., 0.],\n",
              "       [0., 0., 0., 0., 0., 0., 0., 0., 0., 0.],\n",
              "       [0., 0., 0., 0., 0., 0., 0., 0., 0., 0.],\n",
              "       [0., 0., 0., 0., 0., 0., 0., 0., 0., 0.],\n",
              "       [0., 0., 0., 0., 0., 0., 0., 0., 0., 0.],\n",
              "       [0., 0., 0., 0., 0., 0., 0., 0., 0., 0.],\n",
              "       [0., 0., 0., 0., 0., 0., 0., 0., 0., 0.],\n",
              "       [0., 0., 0., 0., 0., 0., 0., 0., 0., 0.]], dtype=float32)>"
            ]
          },
          "metadata": {},
          "execution_count": 4
        }
      ],
      "source": [
        "#tensor of all zeroes\n",
        "tensor_zeroes = tf.zeros(shape = [10,10])\n",
        "tensor_zeroes"
      ]
    },
    {
      "cell_type": "markdown",
      "source": [
        "#### We can create tensors using numpy arrays. A step by step implementation is shown below. After declaring the numpy array we just need to pass it as a tensor using tf.constant. We can use any shape we want by passing the 'shape' argument."
      ],
      "metadata": {
        "id": "YW1lqHkjWNJY"
      }
    },
    {
      "cell_type": "code",
      "execution_count": 5,
      "metadata": {
        "colab": {
          "base_uri": "https://localhost:8080/"
        },
        "id": "iLO8LeHpV9pC",
        "outputId": "685062c7-6189-4954-da40-70d4517f08ce"
      },
      "outputs": [
        {
          "output_type": "execute_result",
          "data": {
            "text/plain": [
              "array([ 1,  2,  3,  4,  5,  6,  7,  8,  9, 10, 11, 12, 13, 14, 15, 16, 17,\n",
              "       18, 19, 20, 21, 22, 23, 24], dtype=int32)"
            ]
          },
          "metadata": {},
          "execution_count": 5
        }
      ],
      "source": [
        "numpy_A = np.arange(1,25,dtype = 'int32')\n",
        "numpy_A\n"
      ]
    },
    {
      "cell_type": "code",
      "execution_count": 6,
      "metadata": {
        "colab": {
          "base_uri": "https://localhost:8080/"
        },
        "id": "CTr9IkNrV9ml",
        "outputId": "2b974df7-474e-4229-c67d-c681bb7a07fa"
      },
      "outputs": [
        {
          "output_type": "execute_result",
          "data": {
            "text/plain": [
              "<tf.Tensor: shape=(2, 3, 4), dtype=int32, numpy=\n",
              "array([[[ 1,  2,  3,  4],\n",
              "        [ 5,  6,  7,  8],\n",
              "        [ 9, 10, 11, 12]],\n",
              "\n",
              "       [[13, 14, 15, 16],\n",
              "        [17, 18, 19, 20],\n",
              "        [21, 22, 23, 24]]], dtype=int32)>"
            ]
          },
          "metadata": {},
          "execution_count": 6
        }
      ],
      "source": [
        "A = tf.constant(value = numpy_A, shape = {2,3,4})\n",
        "A"
      ]
    },
    {
      "cell_type": "code",
      "execution_count": 7,
      "metadata": {
        "colab": {
          "base_uri": "https://localhost:8080/"
        },
        "id": "-cDMUihCV9j_",
        "outputId": "5d2c38d3-928e-4728-a797-d638a93073b8"
      },
      "outputs": [
        {
          "output_type": "execute_result",
          "data": {
            "text/plain": [
              "3"
            ]
          },
          "metadata": {},
          "execution_count": 7
        }
      ],
      "source": [
        "A.ndim"
      ]
    },
    {
      "cell_type": "markdown",
      "metadata": {
        "id": "QOXgZKongbt-"
      },
      "source": [
        "### Getting more info from tensors\n",
        "\n",
        "Tensor attributes\n",
        "\n",
        "* Shape\n",
        "* Rank\n",
        "* Axis or dimension\n",
        "* Size"
      ]
    },
    {
      "cell_type": "markdown",
      "source": [
        "#### Rank of a tensor is the number of axes. This is also given by *ndim*\n",
        "\n",
        "* A scalar has no axes\n",
        "\n",
        "* A vector has one axes \n",
        "\n",
        "* A matrix has 2 axes"
      ],
      "metadata": {
        "id": "C2E7BnuLYh9X"
      }
    },
    {
      "cell_type": "code",
      "execution_count": 8,
      "metadata": {
        "colab": {
          "base_uri": "https://localhost:8080/"
        },
        "id": "M4itJIx2V9hF",
        "outputId": "b3ccbd9b-6197-4ebf-a426-999a38a9866a"
      },
      "outputs": [
        {
          "output_type": "execute_result",
          "data": {
            "text/plain": [
              "<tf.Tensor: shape=(2, 3, 4, 5), dtype=float32, numpy=\n",
              "array([[[[0., 0., 0., 0., 0.],\n",
              "         [0., 0., 0., 0., 0.],\n",
              "         [0., 0., 0., 0., 0.],\n",
              "         [0., 0., 0., 0., 0.]],\n",
              "\n",
              "        [[0., 0., 0., 0., 0.],\n",
              "         [0., 0., 0., 0., 0.],\n",
              "         [0., 0., 0., 0., 0.],\n",
              "         [0., 0., 0., 0., 0.]],\n",
              "\n",
              "        [[0., 0., 0., 0., 0.],\n",
              "         [0., 0., 0., 0., 0.],\n",
              "         [0., 0., 0., 0., 0.],\n",
              "         [0., 0., 0., 0., 0.]]],\n",
              "\n",
              "\n",
              "       [[[0., 0., 0., 0., 0.],\n",
              "         [0., 0., 0., 0., 0.],\n",
              "         [0., 0., 0., 0., 0.],\n",
              "         [0., 0., 0., 0., 0.]],\n",
              "\n",
              "        [[0., 0., 0., 0., 0.],\n",
              "         [0., 0., 0., 0., 0.],\n",
              "         [0., 0., 0., 0., 0.],\n",
              "         [0., 0., 0., 0., 0.]],\n",
              "\n",
              "        [[0., 0., 0., 0., 0.],\n",
              "         [0., 0., 0., 0., 0.],\n",
              "         [0., 0., 0., 0., 0.],\n",
              "         [0., 0., 0., 0., 0.]]]], dtype=float32)>"
            ]
          },
          "metadata": {},
          "execution_count": 8
        }
      ],
      "source": [
        "#create a rank 4 tensor (4 dimensions)\n",
        "\n",
        "rank_4_tensor = tf.zeros(shape = [2,3,4,5])\n",
        "rank_4_tensor"
      ]
    },
    {
      "cell_type": "code",
      "execution_count": 9,
      "metadata": {
        "colab": {
          "base_uri": "https://localhost:8080/"
        },
        "id": "LLgKQX_rV9dr",
        "outputId": "b894f0a3-71bb-4d1b-f771-055e78e1ccd3"
      },
      "outputs": [
        {
          "output_type": "execute_result",
          "data": {
            "text/plain": [
              "<tf.Tensor: shape=(3, 4, 5), dtype=float32, numpy=\n",
              "array([[[0., 0., 0., 0., 0.],\n",
              "        [0., 0., 0., 0., 0.],\n",
              "        [0., 0., 0., 0., 0.],\n",
              "        [0., 0., 0., 0., 0.]],\n",
              "\n",
              "       [[0., 0., 0., 0., 0.],\n",
              "        [0., 0., 0., 0., 0.],\n",
              "        [0., 0., 0., 0., 0.],\n",
              "        [0., 0., 0., 0., 0.]],\n",
              "\n",
              "       [[0., 0., 0., 0., 0.],\n",
              "        [0., 0., 0., 0., 0.],\n",
              "        [0., 0., 0., 0., 0.],\n",
              "        [0., 0., 0., 0., 0.]]], dtype=float32)>"
            ]
          },
          "metadata": {},
          "execution_count": 9
        }
      ],
      "source": [
        "rank_4_tensor[0]"
      ]
    },
    {
      "cell_type": "markdown",
      "source": [
        "#### Shape of a tensor is a tuple that shows how many dimensions the tensor has along each axis whereas size of a tensor shows the total number of elements a tensor has"
      ],
      "metadata": {
        "id": "5XBaMsOEa3oE"
      }
    },
    {
      "cell_type": "code",
      "execution_count": 10,
      "metadata": {
        "colab": {
          "base_uri": "https://localhost:8080/"
        },
        "id": "lwq38h17V9aU",
        "outputId": "f6c3e69f-964f-41ee-b451-7f587fc87992"
      },
      "outputs": [
        {
          "output_type": "execute_result",
          "data": {
            "text/plain": [
              "(TensorShape([2, 3, 4, 5]), 4, <tf.Tensor: shape=(), dtype=int32, numpy=120>)"
            ]
          },
          "metadata": {},
          "execution_count": 10
        }
      ],
      "source": [
        "rank_4_tensor.shape,rank_4_tensor.ndim,tf.size(rank_4_tensor)"
      ]
    },
    {
      "cell_type": "code",
      "execution_count": 11,
      "metadata": {
        "colab": {
          "base_uri": "https://localhost:8080/"
        },
        "id": "wVTjQVB_V9XU",
        "outputId": "74551a40-7a63-42dd-e1b1-6d9c3a2787e4"
      },
      "outputs": [
        {
          "output_type": "stream",
          "name": "stdout",
          "text": [
            "The data type of our tensor is  <dtype: 'float32'>\n",
            "The shape of our tensor is  (2, 3, 4, 5)\n",
            "The number of dimensions of our tensor is (rank)  4\n",
            "Elements along 0-axis  2\n",
            "Elements along last axis  5\n",
            "Total number of elements in our tensor is  tf.Tensor(120, shape=(), dtype=int32)\n",
            "Total number of elements in our tensor is  120\n"
          ]
        }
      ],
      "source": [
        "#Getting various attributes of the tensor\n",
        "\n",
        "print('The data type of our tensor is ',rank_4_tensor.dtype)\n",
        "print('The shape of our tensor is ',rank_4_tensor.shape)\n",
        "print('The number of dimensions of our tensor is (rank) ',rank_4_tensor.ndim)\n",
        "print('Elements along 0-axis ',rank_4_tensor.shape[0])\n",
        "print('Elements along last axis ',rank_4_tensor.shape[-1])\n",
        "print('Total number of elements in our tensor is ',tf.size(rank_4_tensor))\n",
        "print('Total number of elements in our tensor is ',tf.size(rank_4_tensor).numpy())"
      ]
    },
    {
      "cell_type": "markdown",
      "source": [
        "### Slicing a tensor\n",
        "\n",
        "We can slice tensors based on their dimensions"
      ],
      "metadata": {
        "id": "96kfhnozbakv"
      }
    },
    {
      "cell_type": "code",
      "execution_count": 12,
      "metadata": {
        "colab": {
          "base_uri": "https://localhost:8080/"
        },
        "id": "u-rpHnFcV9NA",
        "outputId": "6a36bd49-c55e-4f84-91cf-6055937a1591"
      },
      "outputs": [
        {
          "output_type": "execute_result",
          "data": {
            "text/plain": [
              "<tf.Tensor: shape=(2, 2, 2, 2), dtype=float32, numpy=\n",
              "array([[[[0., 0.],\n",
              "         [0., 0.]],\n",
              "\n",
              "        [[0., 0.],\n",
              "         [0., 0.]]],\n",
              "\n",
              "\n",
              "       [[[0., 0.],\n",
              "         [0., 0.]],\n",
              "\n",
              "        [[0., 0.],\n",
              "         [0., 0.]]]], dtype=float32)>"
            ]
          },
          "metadata": {},
          "execution_count": 12
        }
      ],
      "source": [
        "# Get the first 2 elements of each dimension\n",
        "\n",
        "rank_4_tensor[:2,:2,:2,:2]"
      ]
    },
    {
      "cell_type": "code",
      "execution_count": 13,
      "metadata": {
        "colab": {
          "base_uri": "https://localhost:8080/"
        },
        "id": "DBzGCCejV9E3",
        "outputId": "52470e35-4c9b-4456-e920-62d53c8b63b6"
      },
      "outputs": [
        {
          "output_type": "execute_result",
          "data": {
            "text/plain": [
              "<tf.Tensor: shape=(1, 1, 1, 5), dtype=float32, numpy=array([[[[0., 0., 0., 0., 0.]]]], dtype=float32)>"
            ]
          },
          "metadata": {},
          "execution_count": 13
        }
      ],
      "source": [
        "# Get the first element from each dimension from each index except for the final one\n",
        "\n",
        "rank_4_tensor[:1,:1,:1,:]"
      ]
    },
    {
      "cell_type": "code",
      "execution_count": 14,
      "metadata": {
        "colab": {
          "base_uri": "https://localhost:8080/"
        },
        "id": "V3I1S86nV83h",
        "outputId": "4dd01c26-87c5-45f1-81ad-9b8f4c41b610"
      },
      "outputs": [
        {
          "output_type": "execute_result",
          "data": {
            "text/plain": [
              "<tf.Tensor: shape=(1, 1, 4, 1), dtype=float32, numpy=\n",
              "array([[[[0.],\n",
              "         [0.],\n",
              "         [0.],\n",
              "         [0.]]]], dtype=float32)>"
            ]
          },
          "metadata": {},
          "execution_count": 14
        }
      ],
      "source": [
        "\n",
        "rank_4_tensor[:1,:1,:,:1]"
      ]
    },
    {
      "cell_type": "code",
      "execution_count": 15,
      "metadata": {
        "colab": {
          "base_uri": "https://localhost:8080/"
        },
        "id": "rWh8p1_uBQBg",
        "outputId": "fd358441-fbf9-47be-944d-36c925883ef5"
      },
      "outputs": [
        {
          "output_type": "execute_result",
          "data": {
            "text/plain": [
              "<tf.Tensor: shape=(1, 3, 1, 1), dtype=float32, numpy=\n",
              "array([[[[0.]],\n",
              "\n",
              "        [[0.]],\n",
              "\n",
              "        [[0.]]]], dtype=float32)>"
            ]
          },
          "metadata": {},
          "execution_count": 15
        }
      ],
      "source": [
        "rank_4_tensor[:1,:,:1,:1]"
      ]
    },
    {
      "cell_type": "code",
      "execution_count": 16,
      "metadata": {
        "colab": {
          "base_uri": "https://localhost:8080/"
        },
        "id": "PyFTrQ_mBP-6",
        "outputId": "491820da-eaa7-467b-abe6-22aaa9fc8f24"
      },
      "outputs": [
        {
          "output_type": "execute_result",
          "data": {
            "text/plain": [
              "<tf.Tensor: shape=(2, 1, 1, 1), dtype=float32, numpy=\n",
              "array([[[[0.]]],\n",
              "\n",
              "\n",
              "       [[[0.]]]], dtype=float32)>"
            ]
          },
          "metadata": {},
          "execution_count": 16
        }
      ],
      "source": [
        "rank_4_tensor[:,:1,:1,:1]"
      ]
    },
    {
      "cell_type": "markdown",
      "source": [
        "### Adding an extra dimension to a tensor"
      ],
      "metadata": {
        "id": "riSh0Y0qb2Hj"
      }
    },
    {
      "cell_type": "code",
      "execution_count": 17,
      "metadata": {
        "colab": {
          "base_uri": "https://localhost:8080/"
        },
        "id": "m8Dt9Q_6BP8b",
        "outputId": "359b2eab-f0d0-492c-a549-2a984f6cb636"
      },
      "outputs": [
        {
          "output_type": "execute_result",
          "data": {
            "text/plain": [
              "<tf.Tensor: shape=(2, 2), dtype=int64, numpy=\n",
              "array([[2, 5],\n",
              "       [6, 1]])>"
            ]
          },
          "metadata": {},
          "execution_count": 17
        }
      ],
      "source": [
        "# Create a rank 2 tensor (2 dimensions)\n",
        "\n",
        "rank_2_tensor = tf.constant(value = np.random.randint(np.arange(5,9)),shape = [2,2])\n",
        "rank_2_tensor"
      ]
    },
    {
      "cell_type": "code",
      "execution_count": 18,
      "metadata": {
        "colab": {
          "base_uri": "https://localhost:8080/"
        },
        "id": "EFmVVcH6CV8W",
        "outputId": "f200c205-b990-496d-c979-acbdcb67175c"
      },
      "outputs": [
        {
          "output_type": "execute_result",
          "data": {
            "text/plain": [
              "(2, TensorShape([2, 2]))"
            ]
          },
          "metadata": {},
          "execution_count": 18
        }
      ],
      "source": [
        "rank_2_tensor.ndim, rank_2_tensor.shape"
      ]
    },
    {
      "cell_type": "code",
      "execution_count": 19,
      "metadata": {
        "colab": {
          "base_uri": "https://localhost:8080/"
        },
        "id": "ghKvzMqABP6F",
        "outputId": "703232fe-ae2b-4d0a-dc25-d46cb130b0c9"
      },
      "outputs": [
        {
          "output_type": "execute_result",
          "data": {
            "text/plain": [
              "<tf.Tensor: shape=(2,), dtype=int64, numpy=array([5, 1])>"
            ]
          },
          "metadata": {},
          "execution_count": 19
        }
      ],
      "source": [
        "# Get the last item of each row\n",
        "\n",
        "rank_2_tensor[:,-1]"
      ]
    },
    {
      "cell_type": "markdown",
      "source": [
        "#### tf.newaxis just increases the existing arrays dimension by one more dimension as shown below"
      ],
      "metadata": {
        "id": "iop7GiATb-1v"
      }
    },
    {
      "cell_type": "code",
      "execution_count": 20,
      "metadata": {
        "colab": {
          "base_uri": "https://localhost:8080/"
        },
        "id": "U63daoF5BP3z",
        "outputId": "961c56ce-775c-4f3c-9366-79e063fd6e25"
      },
      "outputs": [
        {
          "output_type": "execute_result",
          "data": {
            "text/plain": [
              "<tf.Tensor: shape=(2, 2, 1), dtype=int64, numpy=\n",
              "array([[[2],\n",
              "        [5]],\n",
              "\n",
              "       [[6],\n",
              "        [1]]])>"
            ]
          },
          "metadata": {},
          "execution_count": 20
        }
      ],
      "source": [
        "# Adding an extra dimension\n",
        "\n",
        "rank_3_tensor = rank_2_tensor[..., tf.newaxis]\n",
        "rank_3_tensor"
      ]
    },
    {
      "cell_type": "code",
      "execution_count": 21,
      "metadata": {
        "colab": {
          "base_uri": "https://localhost:8080/"
        },
        "id": "MqNCq3CPt6yj",
        "outputId": "5182fd24-85dd-4a1f-e1fc-cae40cc093b2"
      },
      "outputs": [
        {
          "output_type": "execute_result",
          "data": {
            "text/plain": [
              "<tf.Tensor: shape=(2, 2, 1), dtype=int64, numpy=\n",
              "array([[[2],\n",
              "        [5]],\n",
              "\n",
              "       [[6],\n",
              "        [1]]])>"
            ]
          },
          "metadata": {},
          "execution_count": 21
        }
      ],
      "source": [
        "#Another representation of the above code\n",
        "rank_3_tensor = rank_2_tensor[:,:, tf.newaxis]\n",
        "rank_3_tensor\n"
      ]
    },
    {
      "cell_type": "markdown",
      "source": [
        "#### tf.expand_dims allows us to expand dimensions basis the axis. If we put axis = 0, it will add a dimension at the beginning i.e position 0 and if we use axis = 1, it will add postion 1"
      ],
      "metadata": {
        "id": "2MEbNwyacrOP"
      }
    },
    {
      "cell_type": "code",
      "execution_count": 22,
      "metadata": {
        "colab": {
          "base_uri": "https://localhost:8080/"
        },
        "id": "ACq5n_qiBP1g",
        "outputId": "28cb18f8-a1ed-4ae8-e4f8-96fc795f3367"
      },
      "outputs": [
        {
          "output_type": "execute_result",
          "data": {
            "text/plain": [
              "<tf.Tensor: shape=(2, 2, 1), dtype=int64, numpy=\n",
              "array([[[2],\n",
              "        [5]],\n",
              "\n",
              "       [[6],\n",
              "        [1]]])>"
            ]
          },
          "metadata": {},
          "execution_count": 22
        }
      ],
      "source": [
        "# Alterntive to tf.newaxis\n",
        "\n",
        "tf.expand_dims(rank_2_tensor,axis = -1) #extra dimension at the end"
      ]
    },
    {
      "cell_type": "code",
      "execution_count": 23,
      "metadata": {
        "colab": {
          "base_uri": "https://localhost:8080/"
        },
        "id": "YLy5Zxe5BPzQ",
        "outputId": "a5747427-4e24-43e4-a399-dad3bcb863f7"
      },
      "outputs": [
        {
          "output_type": "execute_result",
          "data": {
            "text/plain": [
              "<tf.Tensor: shape=(1, 2, 2), dtype=int64, numpy=\n",
              "array([[[2, 5],\n",
              "        [6, 1]]])>"
            ]
          },
          "metadata": {},
          "execution_count": 23
        }
      ],
      "source": [
        "tf.expand_dims(rank_2_tensor,axis = 0) #extra dimension at the beginning"
      ]
    },
    {
      "cell_type": "code",
      "execution_count": 24,
      "metadata": {
        "colab": {
          "base_uri": "https://localhost:8080/"
        },
        "id": "RJJs-FE9BPw5",
        "outputId": "8792fbc2-55e3-434c-a1b3-5307f2799965"
      },
      "outputs": [
        {
          "output_type": "execute_result",
          "data": {
            "text/plain": [
              "<tf.Tensor: shape=(2, 2, 1), dtype=int64, numpy=\n",
              "array([[[2],\n",
              "        [5]],\n",
              "\n",
              "       [[6],\n",
              "        [1]]])>"
            ]
          },
          "metadata": {},
          "execution_count": 24
        }
      ],
      "source": [
        "\n",
        "tf.expand_dims(rank_2_tensor,axis = -1)"
      ]
    },
    {
      "cell_type": "code",
      "execution_count": 25,
      "metadata": {
        "colab": {
          "base_uri": "https://localhost:8080/"
        },
        "id": "P5wyhqKMBPsH",
        "outputId": "03a0d391-70a5-498a-fda2-2b8f4f1ee9f4"
      },
      "outputs": [
        {
          "output_type": "execute_result",
          "data": {
            "text/plain": [
              "<tf.Tensor: shape=(1, 2, 2), dtype=int64, numpy=\n",
              "array([[[2, 5],\n",
              "        [6, 1]]])>"
            ]
          },
          "metadata": {},
          "execution_count": 25
        }
      ],
      "source": [
        "tf.expand_dims(rank_2_tensor,axis = 0)"
      ]
    },
    {
      "cell_type": "code",
      "execution_count": 26,
      "metadata": {
        "colab": {
          "base_uri": "https://localhost:8080/"
        },
        "id": "sDfVklQ0BPpz",
        "outputId": "59fea8fc-4fb9-4619-a6c0-63c01170dc02"
      },
      "outputs": [
        {
          "output_type": "execute_result",
          "data": {
            "text/plain": [
              "<tf.Tensor: shape=(2, 1, 2), dtype=int64, numpy=\n",
              "array([[[2, 5]],\n",
              "\n",
              "       [[6, 1]]])>"
            ]
          },
          "metadata": {},
          "execution_count": 26
        }
      ],
      "source": [
        "tf.expand_dims(rank_2_tensor,axis = 1)"
      ]
    }
  ]
}