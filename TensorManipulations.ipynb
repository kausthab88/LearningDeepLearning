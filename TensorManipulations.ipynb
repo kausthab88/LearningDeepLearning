{
  "nbformat": 4,
  "nbformat_minor": 0,
  "metadata": {
    "colab": {
      "provenance": [],
      "authorship_tag": "ABX9TyNXqElsEWzMyCZLKVVuyeQd",
      "include_colab_link": true
    },
    "kernelspec": {
      "name": "python3",
      "display_name": "Python 3"
    },
    "language_info": {
      "name": "python"
    }
  },
  "cells": [
    {
      "cell_type": "markdown",
      "metadata": {
        "id": "view-in-github",
        "colab_type": "text"
      },
      "source": [
        "<a href=\"https://colab.research.google.com/github/kausthab88/LearningDeepLearning/blob/main/TensorManipulations.ipynb\" target=\"_parent\"><img src=\"https://colab.research.google.com/assets/colab-badge.svg\" alt=\"Open In Colab\"/></a>"
      ]
    },
    {
      "cell_type": "code",
      "execution_count": 16,
      "metadata": {
        "id": "1cEdb4r0ZkEm"
      },
      "outputs": [],
      "source": [
        "import tensorflow as tf\n",
        "import numpy as np"
      ]
    },
    {
      "cell_type": "markdown",
      "metadata": {
        "id": "_qUJe9ucEzKv"
      },
      "source": [
        "### Changing the data type of a tensor"
      ]
    },
    {
      "cell_type": "code",
      "execution_count": 2,
      "metadata": {
        "colab": {
          "base_uri": "https://localhost:8080/"
        },
        "id": "GfA0GZwN3B-S",
        "outputId": "276a43cd-5b70-44e1-9c1f-a32b842995ec"
      },
      "outputs": [
        {
          "output_type": "execute_result",
          "data": {
            "text/plain": [
              "(<tf.Tensor: shape=(2,), dtype=float32, numpy=array([1.2, 7.4], dtype=float32)>,\n",
              " tf.float32)"
            ]
          },
          "metadata": {},
          "execution_count": 2
        }
      ],
      "source": [
        "# create a new tensor with default datatype (float32)\n",
        "\n",
        "B = tf.constant([1.2,7.4])\n",
        "B,B.dtype"
      ]
    },
    {
      "cell_type": "markdown",
      "source": [
        "##### Tensors like numpy can detect the datatype of the elements automatically"
      ],
      "metadata": {
        "id": "rW1So3F3ZvSb"
      }
    },
    {
      "cell_type": "code",
      "execution_count": 3,
      "metadata": {
        "colab": {
          "base_uri": "https://localhost:8080/"
        },
        "id": "GbLXmehs3B70",
        "outputId": "696ed675-fd39-4dae-e8f7-099515e1d789"
      },
      "outputs": [
        {
          "output_type": "execute_result",
          "data": {
            "text/plain": [
              "(<tf.Tensor: shape=(2,), dtype=int32, numpy=array([ 7, 10], dtype=int32)>,\n",
              " tf.int32)"
            ]
          },
          "metadata": {},
          "execution_count": 3
        }
      ],
      "source": [
        "C = tf.constant([7,10])\n",
        "C,C.dtype"
      ]
    },
    {
      "cell_type": "code",
      "source": [
        "C_dup = tf.constant([7.,10.])\n",
        "C_dup,C_dup.dtype"
      ],
      "metadata": {
        "colab": {
          "base_uri": "https://localhost:8080/"
        },
        "id": "etbY7IKBZ4MW",
        "outputId": "16df06c1-fdaa-4169-f22d-27358b75f357"
      },
      "execution_count": 4,
      "outputs": [
        {
          "output_type": "execute_result",
          "data": {
            "text/plain": [
              "(<tf.Tensor: shape=(2,), dtype=float32, numpy=array([ 7., 10.], dtype=float32)>,\n",
              " tf.float32)"
            ]
          },
          "metadata": {},
          "execution_count": 4
        }
      ]
    },
    {
      "cell_type": "markdown",
      "source": [
        "##### As mentioned earlier, the default datatype for float elements is `float32` and for int it is `int32`"
      ],
      "metadata": {
        "id": "kQjqiyB3aAZC"
      }
    },
    {
      "cell_type": "code",
      "execution_count": 6,
      "metadata": {
        "colab": {
          "base_uri": "https://localhost:8080/"
        },
        "id": "Enk5wQ2n3B5e",
        "outputId": "c2064c67-92d9-4968-a349-e237420faf5a"
      },
      "outputs": [
        {
          "output_type": "execute_result",
          "data": {
            "text/plain": [
              "(<tf.Tensor: shape=(2,), dtype=float16, numpy=array([ 7., 10.], dtype=float16)>,\n",
              " tf.float16)"
            ]
          },
          "metadata": {},
          "execution_count": 6
        }
      ],
      "source": [
        "# Change from float32 to flat16 -- also caled reduced precision (refer documentation)\n",
        "\n",
        "D = tf.constant([7,10],dtype=tf.float16)\n",
        "D,D.dtype"
      ]
    },
    {
      "cell_type": "markdown",
      "source": [
        "#### The **cast** function helps in changing the data type of a tensor. It can also change the datatype from a higher to lower order and vice versa"
      ],
      "metadata": {
        "id": "yieO_eIIagne"
      }
    },
    {
      "cell_type": "code",
      "execution_count": 5,
      "metadata": {
        "colab": {
          "base_uri": "https://localhost:8080/"
        },
        "id": "6oz1A9BT3B3T",
        "outputId": "13f4035d-ca2c-44af-cc61-d73163d044b8"
      },
      "outputs": [
        {
          "output_type": "execute_result",
          "data": {
            "text/plain": [
              "(<tf.Tensor: shape=(2,), dtype=float16, numpy=array([1.2, 7.4], dtype=float16)>,\n",
              " tf.float16)"
            ]
          },
          "metadata": {},
          "execution_count": 5
        }
      ],
      "source": [
        "E = tf.cast(B,dtype=tf.float16)\n",
        "E, E.dtype"
      ]
    },
    {
      "cell_type": "code",
      "execution_count": 7,
      "metadata": {
        "colab": {
          "base_uri": "https://localhost:8080/"
        },
        "id": "UmjXujTH3B02",
        "outputId": "fdcf7de5-778c-49b4-a2ea-e80bf1c610c9"
      },
      "outputs": [
        {
          "output_type": "execute_result",
          "data": {
            "text/plain": [
              "(<tf.Tensor: shape=(2,), dtype=int32, numpy=array([10, 20], dtype=int32)>,\n",
              " tf.int32)"
            ]
          },
          "metadata": {},
          "execution_count": 7
        }
      ],
      "source": [
        "# Change from int32 to float32\n",
        "\n",
        "F = tf.constant([10,20])\n",
        "\n",
        "F, F.dtype"
      ]
    },
    {
      "cell_type": "code",
      "execution_count": 8,
      "metadata": {
        "colab": {
          "base_uri": "https://localhost:8080/"
        },
        "id": "kNrFT3rB3ByU",
        "outputId": "96d3d571-3334-477c-84a3-dc3ec2c1fe27"
      },
      "outputs": [
        {
          "output_type": "execute_result",
          "data": {
            "text/plain": [
              "(<tf.Tensor: shape=(2,), dtype=float32, numpy=array([10., 20.], dtype=float32)>,\n",
              " tf.float32)"
            ]
          },
          "metadata": {},
          "execution_count": 8
        }
      ],
      "source": [
        "G = tf.cast(F, dtype = tf.float32)\n",
        "\n",
        "G, G.dtype"
      ]
    },
    {
      "cell_type": "code",
      "execution_count": 9,
      "metadata": {
        "colab": {
          "base_uri": "https://localhost:8080/"
        },
        "id": "A3mrhrIh3Bvx",
        "outputId": "9c5f2bc6-d3c6-4efc-d26d-2a5d3befcc12"
      },
      "outputs": [
        {
          "output_type": "execute_result",
          "data": {
            "text/plain": [
              "<tf.Tensor: shape=(2,), dtype=int32, numpy=array([ -7, -10], dtype=int32)>"
            ]
          },
          "metadata": {},
          "execution_count": 9
        }
      ],
      "source": [
        "#Getting the absolute values\n",
        "\n",
        "D = tf.constant([-7,-10])\n",
        "D"
      ]
    },
    {
      "cell_type": "code",
      "execution_count": 10,
      "metadata": {
        "colab": {
          "base_uri": "https://localhost:8080/"
        },
        "id": "c31LGd4K3Btg",
        "outputId": "d935d198-02d7-4d6a-8cbf-71e1b509aefc"
      },
      "outputs": [
        {
          "output_type": "execute_result",
          "data": {
            "text/plain": [
              "<tf.Tensor: shape=(2,), dtype=int32, numpy=array([ 7, 10], dtype=int32)>"
            ]
          },
          "metadata": {},
          "execution_count": 10
        }
      ],
      "source": [
        "tf.abs(D)"
      ]
    },
    {
      "cell_type": "markdown",
      "metadata": {
        "id": "pqSNGZH43Bqz"
      },
      "source": [
        "Let's go through the following forms of aggregation\n",
        "\n",
        "* Get the minimum\n",
        "* Get the maximum\n",
        "* Get the mean of a tensor\n",
        "* Get the sum of tensor"
      ]
    },
    {
      "cell_type": "code",
      "execution_count": 11,
      "metadata": {
        "colab": {
          "base_uri": "https://localhost:8080/"
        },
        "id": "NziXgYnTDV4M",
        "outputId": "6e8e4630-bddb-4c1c-9a64-60626236e8ac"
      },
      "outputs": [
        {
          "output_type": "execute_result",
          "data": {
            "text/plain": [
              "<tf.Tensor: shape=(5, 3), dtype=float32, numpy=\n",
              "array([[-0.90112925, -0.0175216 , -0.4188493 ],\n",
              "       [ 0.29532313,  0.08036723, -1.7199678 ],\n",
              "       [-0.6891769 ,  0.22862972, -0.69891334],\n",
              "       [-0.11101238, -0.44537356,  0.1335287 ],\n",
              "       [ 0.12417295,  0.96785086, -0.35425642]], dtype=float32)>"
            ]
          },
          "metadata": {},
          "execution_count": 11
        }
      ],
      "source": [
        "# Create a random tensor\n",
        "\n",
        "H = tf.random.Generator.from_seed(seed = 100)\n",
        "\n",
        "J = H.normal(shape = ((5,3)))\n",
        "\n",
        "J\n"
      ]
    },
    {
      "cell_type": "code",
      "execution_count": 12,
      "metadata": {
        "colab": {
          "base_uri": "https://localhost:8080/"
        },
        "id": "hNbEz2tCRoIP",
        "outputId": "6738e645-2f76-46c8-f08c-b8ad67d3d6eb"
      },
      "outputs": [
        {
          "output_type": "execute_result",
          "data": {
            "text/plain": [
              "<tf.Tensor: shape=(), dtype=float32, numpy=-1.7199678>"
            ]
          },
          "metadata": {},
          "execution_count": 12
        }
      ],
      "source": [
        "tf.reduce_min(J)"
      ]
    },
    {
      "cell_type": "code",
      "execution_count": 13,
      "metadata": {
        "colab": {
          "base_uri": "https://localhost:8080/"
        },
        "id": "gQ1fIcwDRsRf",
        "outputId": "26ed4e1f-919f-483c-f51a-6762eba4a995"
      },
      "outputs": [
        {
          "output_type": "execute_result",
          "data": {
            "text/plain": [
              "<tf.Tensor: shape=(), dtype=float32, numpy=0.96785086>"
            ]
          },
          "metadata": {},
          "execution_count": 13
        }
      ],
      "source": [
        "tf.reduce_max(J)"
      ]
    },
    {
      "cell_type": "code",
      "execution_count": 14,
      "metadata": {
        "colab": {
          "base_uri": "https://localhost:8080/"
        },
        "id": "oZmAzKgrDV0o",
        "outputId": "5e2b1a51-95f5-4b85-d880-49ec872ee0c4"
      },
      "outputs": [
        {
          "output_type": "execute_result",
          "data": {
            "text/plain": [
              "<tf.Tensor: shape=(), dtype=float32, numpy=-0.23508854>"
            ]
          },
          "metadata": {},
          "execution_count": 14
        }
      ],
      "source": [
        "tf.math.reduce_mean(J)"
      ]
    },
    {
      "cell_type": "code",
      "execution_count": 17,
      "metadata": {
        "colab": {
          "base_uri": "https://localhost:8080/"
        },
        "id": "YXlgLSVGDVyJ",
        "outputId": "0d1be16d-5c82-4baa-de5b-524edb4f4393"
      },
      "outputs": [
        {
          "output_type": "execute_result",
          "data": {
            "text/plain": [
              "<tf.Tensor: shape=(50,), dtype=int64, numpy=\n",
              "array([99,  2, 97, 11, 74, 13, 73, 78, 43, 67, 31, 57, 89, 49, 26, 14,  8,\n",
              "       79, 19, 69, 12, 38, 88, 32, 85, 32, 15, 41, 27, 76, 18, 30, 60, 32,\n",
              "       20, 46, 81, 56, 12, 12, 63, 63, 62, 15, 87,  5, 94, 18, 79, 56])>"
            ]
          },
          "metadata": {},
          "execution_count": 17
        }
      ],
      "source": [
        "H = tf.constant(np.random.randint(1,100, size = 50))\n",
        "\n",
        "H"
      ]
    },
    {
      "cell_type": "code",
      "execution_count": 18,
      "metadata": {
        "colab": {
          "base_uri": "https://localhost:8080/"
        },
        "id": "RIDv3159DVvm",
        "outputId": "de7276f9-9bdb-4915-c2ba-d23c3e3f76f3"
      },
      "outputs": [
        {
          "output_type": "execute_result",
          "data": {
            "text/plain": [
              "<tf.Tensor: shape=(), dtype=int64, numpy=2>"
            ]
          },
          "metadata": {},
          "execution_count": 18
        }
      ],
      "source": [
        "#find the minimum\n",
        "\n",
        "tf.reduce_min(H)"
      ]
    },
    {
      "cell_type": "code",
      "execution_count": 19,
      "metadata": {
        "colab": {
          "base_uri": "https://localhost:8080/"
        },
        "id": "rQCG4P4YDVsy",
        "outputId": "d6e37afa-8ee5-4568-c047-48e7ae56760a"
      },
      "outputs": [
        {
          "output_type": "execute_result",
          "data": {
            "text/plain": [
              "<tf.Tensor: shape=(), dtype=int64, numpy=99>"
            ]
          },
          "metadata": {},
          "execution_count": 19
        }
      ],
      "source": [
        "#find the maximum\n",
        "\n",
        "tf.reduce_max(H)"
      ]
    },
    {
      "cell_type": "code",
      "execution_count": 20,
      "metadata": {
        "colab": {
          "base_uri": "https://localhost:8080/"
        },
        "id": "FaiPuxNYDVqb",
        "outputId": "5b25277c-a054-4dc2-a052-a589a4f32f11"
      },
      "outputs": [
        {
          "output_type": "execute_result",
          "data": {
            "text/plain": [
              "<tf.Tensor: shape=(), dtype=int64, numpy=47>"
            ]
          },
          "metadata": {},
          "execution_count": 20
        }
      ],
      "source": [
        "# Find the mean\n",
        "\n",
        "tf.reduce_mean(H)"
      ]
    },
    {
      "cell_type": "code",
      "execution_count": 21,
      "metadata": {
        "colab": {
          "base_uri": "https://localhost:8080/"
        },
        "id": "Inbi5QpZDVnt",
        "outputId": "bf864f2b-6d0d-482c-cdaa-50334ff084bc"
      },
      "outputs": [
        {
          "output_type": "execute_result",
          "data": {
            "text/plain": [
              "<tf.Tensor: shape=(), dtype=int64, numpy=2353>"
            ]
          },
          "metadata": {},
          "execution_count": 21
        }
      ],
      "source": [
        "#Find the sum\n",
        "\n",
        "tf.reduce_sum(H)"
      ]
    },
    {
      "cell_type": "code",
      "execution_count": 22,
      "metadata": {
        "colab": {
          "base_uri": "https://localhost:8080/"
        },
        "id": "-kTfO8JjTbfL",
        "outputId": "d8ae622f-60b0-48d3-9da4-9dfc4484f47d"
      },
      "outputs": [
        {
          "output_type": "execute_result",
          "data": {
            "text/plain": [
              "<tf.Tensor: shape=(50,), dtype=float16, numpy=\n",
              "array([99.,  2., 97., 11., 74., 13., 73., 78., 43., 67., 31., 57., 89.,\n",
              "       49., 26., 14.,  8., 79., 19., 69., 12., 38., 88., 32., 85., 32.,\n",
              "       15., 41., 27., 76., 18., 30., 60., 32., 20., 46., 81., 56., 12.,\n",
              "       12., 63., 63., 62., 15., 87.,  5., 94., 18., 79., 56.],\n",
              "      dtype=float16)>"
            ]
          },
          "metadata": {},
          "execution_count": 22
        }
      ],
      "source": [
        "tf.cast(H,dtype = tf.float16)"
      ]
    },
    {
      "cell_type": "markdown",
      "source": [
        "\n",
        "##### If we use the math library to find the variance or the standard deviation, we have to convert the elements to a `float` datatype"
      ],
      "metadata": {
        "id": "cqyyIDWngzwq"
      }
    },
    {
      "cell_type": "code",
      "execution_count": 27,
      "metadata": {
        "colab": {
          "base_uri": "https://localhost:8080/"
        },
        "id": "PTDDYTFVDVk8",
        "outputId": "1ea207ff-cb24-4f12-c995-2858a6e77ed3"
      },
      "outputs": [
        {
          "output_type": "execute_result",
          "data": {
            "text/plain": [
              "<tf.Tensor: shape=(), dtype=float16, numpy=846.5>"
            ]
          },
          "metadata": {},
          "execution_count": 27
        }
      ],
      "source": [
        "# Find the standard deviation\n",
        "\n",
        "tf.math.reduce_variance(tf.cast(H,dtype = tf.float16))"
      ]
    },
    {
      "cell_type": "code",
      "execution_count": 24,
      "metadata": {
        "colab": {
          "base_uri": "https://localhost:8080/"
        },
        "id": "kezXUic_DViS",
        "outputId": "39cc7f8d-8a4f-408d-9159-183a4806d0f1"
      },
      "outputs": [
        {
          "output_type": "execute_result",
          "data": {
            "text/plain": [
              "<tf.Tensor: shape=(), dtype=float16, numpy=29.1>"
            ]
          },
          "metadata": {},
          "execution_count": 24
        }
      ],
      "source": [
        "# Find the standard deviation\n",
        "\n",
        "\n",
        "tf.math.reduce_std(tf.cast(H,dtype = tf.float16))"
      ]
    }
  ]
}