{
  "nbformat": 4,
  "nbformat_minor": 0,
  "metadata": {
    "colab": {
      "provenance": [],
      "authorship_tag": "ABX9TyMoDGIDf9MCp4u+cQ9gAyD8",
      "include_colab_link": true
    },
    "kernelspec": {
      "name": "python3",
      "display_name": "Python 3"
    },
    "language_info": {
      "name": "python"
    }
  },
  "cells": [
    {
      "cell_type": "markdown",
      "metadata": {
        "id": "view-in-github",
        "colab_type": "text"
      },
      "source": [
        "<a href=\"https://colab.research.google.com/github/kausthab88/LearningDeepLearning/blob/main/Tensor_Manipulations.ipynb\" target=\"_parent\"><img src=\"https://colab.research.google.com/assets/colab-badge.svg\" alt=\"Open In Colab\"/></a>"
      ]
    },
    {
      "cell_type": "code",
      "source": [
        "import tensorflow as tf"
      ],
      "metadata": {
        "id": "1n3UNTiHffKe"
      },
      "execution_count": 2,
      "outputs": []
    },
    {
      "cell_type": "markdown",
      "metadata": {
        "id": "XTjFw5MrvYsX"
      },
      "source": [
        "### Manipulating Tensors (tensor operations)\n",
        "\n",
        "** Basic operations**\n",
        "\n",
        "`+`, `-`, `*`, `/`"
      ]
    },
    {
      "cell_type": "markdown",
      "source": [
        "#### **Note**\n",
        "\n",
        "We cannot add tensors of different shapes"
      ],
      "metadata": {
        "id": "hq9X4kq1vYvM"
      }
    },
    {
      "cell_type": "markdown",
      "source": [
        "#### When we add a number to a tensor, it will add that number to all the elements in that tensor. Similar is the case when we do sunbtraction, multiplication or division"
      ],
      "metadata": {
        "id": "o59e8c8xvwnq"
      }
    },
    {
      "cell_type": "code",
      "execution_count": 23,
      "metadata": {
        "colab": {
          "base_uri": "https://localhost:8080/"
        },
        "id": "m1ACucZKBPlN",
        "outputId": "755e192b-6564-4a2d-d1d9-a0df96ef9460"
      },
      "outputs": [
        {
          "output_type": "execute_result",
          "data": {
            "text/plain": [
              "<tf.Tensor: shape=(2, 2), dtype=int32, numpy=\n",
              "array([[1, 2],\n",
              "       [3, 4]], dtype=int32)>"
            ]
          },
          "metadata": {},
          "execution_count": 23
        }
      ],
      "source": [
        "# Addition operator adds a value to the entire tensor\n",
        "\n",
        "tensor = tf.constant([[1,2],[3,4]])\n",
        "tensor"
      ]
    },
    {
      "cell_type": "code",
      "execution_count": 4,
      "metadata": {
        "colab": {
          "base_uri": "https://localhost:8080/"
        },
        "id": "C43gHBzsBPiv",
        "outputId": "b0a7b55a-f2b9-4ac9-ff78-ced7cc0befa7"
      },
      "outputs": [
        {
          "output_type": "execute_result",
          "data": {
            "text/plain": [
              "<tf.Tensor: shape=(2, 2), dtype=int32, numpy=\n",
              "array([[11, 12],\n",
              "       [13, 14]], dtype=int32)>"
            ]
          },
          "metadata": {},
          "execution_count": 4
        }
      ],
      "source": [
        "tensor + 10 # This does not change the original tensor"
      ]
    },
    {
      "cell_type": "code",
      "execution_count": 5,
      "metadata": {
        "colab": {
          "base_uri": "https://localhost:8080/"
        },
        "id": "ouJE8conBPgc",
        "outputId": "b77f88ba-624d-4424-e4b7-cbde1fe131dd"
      },
      "outputs": [
        {
          "output_type": "execute_result",
          "data": {
            "text/plain": [
              "<tf.Tensor: shape=(2, 2), dtype=int32, numpy=\n",
              "array([[-9, -8],\n",
              "       [-7, -6]], dtype=int32)>"
            ]
          },
          "metadata": {},
          "execution_count": 5
        }
      ],
      "source": [
        "# Subtraction\n",
        "\n",
        "tensor -10"
      ]
    },
    {
      "cell_type": "code",
      "execution_count": 6,
      "metadata": {
        "colab": {
          "base_uri": "https://localhost:8080/"
        },
        "id": "g1Ci9IRmBPeU",
        "outputId": "3c12cd2e-74f8-4ec7-b992-72f737d3e814"
      },
      "outputs": [
        {
          "output_type": "execute_result",
          "data": {
            "text/plain": [
              "<tf.Tensor: shape=(2, 2), dtype=int32, numpy=\n",
              "array([[10, 20],\n",
              "       [30, 40]], dtype=int32)>"
            ]
          },
          "metadata": {},
          "execution_count": 6
        }
      ],
      "source": [
        "# Multiplication\n",
        "\n",
        "tensor * 10"
      ]
    },
    {
      "cell_type": "code",
      "execution_count": 7,
      "metadata": {
        "colab": {
          "base_uri": "https://localhost:8080/"
        },
        "id": "1Y44eF_qBPcC",
        "outputId": "c425b6ff-03ec-49e4-9625-2f988f1d5d32"
      },
      "outputs": [
        {
          "output_type": "execute_result",
          "data": {
            "text/plain": [
              "<tf.Tensor: shape=(2, 2), dtype=float64, numpy=\n",
              "array([[0.1, 0.2],\n",
              "       [0.3, 0.4]])>"
            ]
          },
          "metadata": {},
          "execution_count": 7
        }
      ],
      "source": [
        "# Division\n",
        "\n",
        "tensor/10"
      ]
    },
    {
      "cell_type": "markdown",
      "source": [
        "#### Using TF inbuilt functions\n",
        "\n",
        "Alternatively we can use the tensorflow inbuild add, subtract , divide and multiply functions and achieve the exact results"
      ],
      "metadata": {
        "id": "b1czswjsBPZv"
      }
    },
    {
      "cell_type": "code",
      "execution_count": 9,
      "metadata": {
        "colab": {
          "base_uri": "https://localhost:8080/"
        },
        "id": "HX-0v8Y8BPXc",
        "outputId": "d220200f-f795-4e4a-cfb7-e1306f7dfb77"
      },
      "outputs": [
        {
          "output_type": "execute_result",
          "data": {
            "text/plain": [
              "<tf.Tensor: shape=(2, 2), dtype=int32, numpy=\n",
              "array([[10, 20],\n",
              "       [30, 40]], dtype=int32)>"
            ]
          },
          "metadata": {},
          "execution_count": 9
        }
      ],
      "source": [
        "tf.multiply(tensor,10)"
      ]
    },
    {
      "cell_type": "code",
      "execution_count": 10,
      "metadata": {
        "colab": {
          "base_uri": "https://localhost:8080/"
        },
        "id": "kNZp91MlBPUt",
        "outputId": "c43255f8-0fae-4243-e9ac-bf926e61f044"
      },
      "outputs": [
        {
          "output_type": "execute_result",
          "data": {
            "text/plain": [
              "<tf.Tensor: shape=(2, 2), dtype=int32, numpy=\n",
              "array([[11, 12],\n",
              "       [13, 14]], dtype=int32)>"
            ]
          },
          "metadata": {},
          "execution_count": 10
        }
      ],
      "source": [
        "tf.add(tensor,10)"
      ]
    },
    {
      "cell_type": "markdown",
      "metadata": {
        "id": "a8wYsAH78xJU"
      },
      "source": [
        "#### Matrix Multiplication\n",
        "\n",
        "Matrix multiplication is one of the most important concepts to be understood. In order to multiply 2 matrices, the gollowing rule have to satisfy:\n",
        "\n",
        "1. The inner dimension of the matrices must match\n",
        "2. The resulting matrix will have the shape of outer dimensions"
      ]
    },
    {
      "cell_type": "code",
      "execution_count": 24,
      "metadata": {
        "colab": {
          "base_uri": "https://localhost:8080/"
        },
        "id": "9DRzkqM_BPOb",
        "outputId": "765fce88-6490-46ac-88f0-2ed06913c81e"
      },
      "outputs": [
        {
          "output_type": "stream",
          "name": "stdout",
          "text": [
            "tf.Tensor(\n",
            "[[1 2]\n",
            " [3 4]], shape=(2, 2), dtype=int32)\n"
          ]
        },
        {
          "output_type": "execute_result",
          "data": {
            "text/plain": [
              "<tf.Tensor: shape=(2, 2), dtype=int32, numpy=\n",
              "array([[ 7, 10],\n",
              "       [15, 22]], dtype=int32)>"
            ]
          },
          "metadata": {},
          "execution_count": 24
        }
      ],
      "source": [
        "#Matrix Multiplication in Tensorflow\n",
        "\n",
        "print(tensor)\n",
        "tf.matmul(tensor,tensor)"
      ]
    },
    {
      "cell_type": "code",
      "execution_count": 12,
      "metadata": {
        "colab": {
          "base_uri": "https://localhost:8080/"
        },
        "id": "X949vyAQBPI_",
        "outputId": "d9936373-f56e-4375-ee4f-67c2366ab33d"
      },
      "outputs": [
        {
          "output_type": "execute_result",
          "data": {
            "text/plain": [
              "<tf.Tensor: shape=(2, 2), dtype=int32, numpy=\n",
              "array([[ 1,  4],\n",
              "       [ 9, 16]], dtype=int32)>"
            ]
          },
          "metadata": {},
          "execution_count": 12
        }
      ],
      "source": [
        "tensor * tensor # is not same as matmul"
      ]
    },
    {
      "cell_type": "code",
      "execution_count": 13,
      "metadata": {
        "colab": {
          "base_uri": "https://localhost:8080/"
        },
        "id": "FwHHej7d9Qlc",
        "outputId": "a17bb152-f658-4562-fe52-463b144d0411"
      },
      "outputs": [
        {
          "output_type": "execute_result",
          "data": {
            "text/plain": [
              "<tf.Tensor: shape=(2, 2), dtype=int32, numpy=\n",
              "array([[ 7, 10],\n",
              "       [15, 22]], dtype=int32)>"
            ]
          },
          "metadata": {},
          "execution_count": 13
        }
      ],
      "source": [
        "# Matrix multiplication with Python operator \"@\"\n",
        "\n",
        "tensor @ tensor"
      ]
    },
    {
      "cell_type": "code",
      "execution_count": 25,
      "metadata": {
        "id": "hRF_X6ib9Ywv"
      },
      "outputs": [],
      "source": [
        "# Matrix multiplication with different shape\n",
        "\n",
        "# create a tensor with shape (3,2)\n",
        "\n",
        "X = tf.constant([[1,2],\n",
        "                [3,4],\n",
        "                [5,6]])\n"
      ]
    },
    {
      "cell_type": "code",
      "execution_count": 15,
      "metadata": {
        "colab": {
          "base_uri": "https://localhost:8080/"
        },
        "id": "rO7ImU9J-VW5",
        "outputId": "5731a0ab-4d2f-44cf-ab83-612bdf4fd3b5"
      },
      "outputs": [
        {
          "output_type": "execute_result",
          "data": {
            "text/plain": [
              "<tf.Tensor: shape=(2, 3), dtype=int32, numpy=\n",
              "array([[ 7,  8,  9],\n",
              "       [10, 11, 12]], dtype=int32)>"
            ]
          },
          "metadata": {},
          "execution_count": 15
        }
      ],
      "source": [
        "Y = tf.constant([[7,8,9],\n",
        "                [10,11,12]])\n",
        "\n",
        "Y"
      ]
    },
    {
      "cell_type": "code",
      "execution_count": 16,
      "metadata": {
        "colab": {
          "base_uri": "https://localhost:8080/"
        },
        "id": "MkZKg7yM-VUt",
        "outputId": "889e25af-d994-4578-a6f9-d1da43815b2f"
      },
      "outputs": [
        {
          "output_type": "execute_result",
          "data": {
            "text/plain": [
              "<tf.Tensor: shape=(3, 3), dtype=int32, numpy=\n",
              "array([[ 27,  30,  33],\n",
              "       [ 61,  68,  75],\n",
              "       [ 95, 106, 117]], dtype=int32)>"
            ]
          },
          "metadata": {},
          "execution_count": 16
        }
      ],
      "source": [
        "X@Y"
      ]
    },
    {
      "cell_type": "code",
      "execution_count": 17,
      "metadata": {
        "colab": {
          "base_uri": "https://localhost:8080/"
        },
        "id": "7ks7jqaZ-VSU",
        "outputId": "a300dabe-fb91-4acd-c06e-a4dde211fc2c"
      },
      "outputs": [
        {
          "output_type": "execute_result",
          "data": {
            "text/plain": [
              "<tf.Tensor: shape=(2, 4), dtype=int32, numpy=\n",
              "array([[11, 12, 13, 14],\n",
              "       [15, 16, 17, 18]], dtype=int32)>"
            ]
          },
          "metadata": {},
          "execution_count": 17
        }
      ],
      "source": [
        "Z = tf.constant([[11,12,13,14],\n",
        "                 [15,16,17,18]])\n",
        "\n",
        "Z"
      ]
    },
    {
      "cell_type": "code",
      "execution_count": 18,
      "metadata": {
        "colab": {
          "base_uri": "https://localhost:8080/"
        },
        "id": "3LMxBbbB-VPx",
        "outputId": "89468768-aec8-438f-9ded-e1eba9f52a93"
      },
      "outputs": [
        {
          "output_type": "execute_result",
          "data": {
            "text/plain": [
              "<tf.Tensor: shape=(3, 4), dtype=int32, numpy=\n",
              "array([[ 41,  44,  47,  50],\n",
              "       [ 93, 100, 107, 114],\n",
              "       [145, 156, 167, 178]], dtype=int32)>"
            ]
          },
          "metadata": {},
          "execution_count": 18
        }
      ],
      "source": [
        "X @ Z"
      ]
    },
    {
      "cell_type": "markdown",
      "source": [
        "#### Reshaping a tensor vs Transposing a Tensor\n",
        "\n",
        "* Reshape is an operation that allows you to change the shape of a tensor while preserving the total number of elements in it. It rearranges the elements of the tensor to fit a new shape without changing the order or values of the elements\n",
        "\n"
      ],
      "metadata": {
        "id": "7lzjh9y2zPA2"
      }
    },
    {
      "cell_type": "code",
      "execution_count": 19,
      "metadata": {
        "colab": {
          "base_uri": "https://localhost:8080/"
        },
        "id": "_MibGcBZ-VNd",
        "outputId": "dfb01501-65e9-49a7-f052-b6eaaef6f658"
      },
      "outputs": [
        {
          "output_type": "execute_result",
          "data": {
            "text/plain": [
              "<tf.Tensor: shape=(3, 2), dtype=int32, numpy=\n",
              "array([[ 7,  8],\n",
              "       [ 9, 10],\n",
              "       [11, 12]], dtype=int32)>"
            ]
          },
          "metadata": {},
          "execution_count": 19
        }
      ],
      "source": [
        "# REshaping X\n",
        "# Let's define Y first\n",
        "\n",
        "Y = tf.constant([[7,8],\n",
        "                [9,10],\n",
        "                [11,12]])\n",
        "Y"
      ]
    },
    {
      "cell_type": "code",
      "source": [
        "tf.reshape(X,shape = (2,3))"
      ],
      "metadata": {
        "colab": {
          "base_uri": "https://localhost:8080/"
        },
        "id": "o_5BQs320AKu",
        "outputId": "b784ce52-113d-4545-b950-4326bd13df60"
      },
      "execution_count": 26,
      "outputs": [
        {
          "output_type": "execute_result",
          "data": {
            "text/plain": [
              "<tf.Tensor: shape=(2, 3), dtype=int32, numpy=\n",
              "array([[1, 2, 3],\n",
              "       [4, 5, 6]], dtype=int32)>"
            ]
          },
          "metadata": {},
          "execution_count": 26
        }
      ]
    },
    {
      "cell_type": "code",
      "execution_count": 20,
      "metadata": {
        "colab": {
          "base_uri": "https://localhost:8080/"
        },
        "id": "NSxQu1Cj-VKo",
        "outputId": "d2586350-2c9a-4825-c724-8465aea0b704"
      },
      "outputs": [
        {
          "output_type": "execute_result",
          "data": {
            "text/plain": [
              "<tf.Tensor: shape=(2, 2), dtype=int32, numpy=\n",
              "array([[ 58,  64],\n",
              "       [139, 154]], dtype=int32)>"
            ]
          },
          "metadata": {},
          "execution_count": 20
        }
      ],
      "source": [
        "tf.matmul(tf.reshape(X,shape = (2,3)),Y)"
      ]
    },
    {
      "cell_type": "markdown",
      "source": [
        "* Transpose on the other hand is an operation that swaps the dimensions of a tensor. It reorders the axes of a tensor, effectively rotating the tensor along its axes"
      ],
      "metadata": {
        "id": "FxMxPkSb0X8-"
      }
    },
    {
      "cell_type": "code",
      "execution_count": 21,
      "metadata": {
        "colab": {
          "base_uri": "https://localhost:8080/"
        },
        "id": "wRmQoPkp-VIe",
        "outputId": "dda0fcff-24c9-4179-9bde-c441dbcb9083"
      },
      "outputs": [
        {
          "output_type": "execute_result",
          "data": {
            "text/plain": [
              "(<tf.Tensor: shape=(3, 2), dtype=int32, numpy=\n",
              " array([[1, 2],\n",
              "        [3, 4],\n",
              "        [5, 6]], dtype=int32)>,\n",
              " <tf.Tensor: shape=(2, 3), dtype=int32, numpy=\n",
              " array([[1, 3, 5],\n",
              "        [2, 4, 6]], dtype=int32)>,\n",
              " <tf.Tensor: shape=(2, 3), dtype=int32, numpy=\n",
              " array([[1, 2, 3],\n",
              "        [4, 5, 6]], dtype=int32)>)"
            ]
          },
          "metadata": {},
          "execution_count": 21
        }
      ],
      "source": [
        "# Can do the same with transpose\n",
        "\n",
        "X, tf.transpose(X), tf.reshape(X, shape = (2,3))"
      ]
    },
    {
      "cell_type": "code",
      "execution_count": 22,
      "metadata": {
        "colab": {
          "base_uri": "https://localhost:8080/"
        },
        "id": "XYCCF466-VFu",
        "outputId": "2edf45b5-9e3d-4435-8b2a-fc820ae9655d"
      },
      "outputs": [
        {
          "output_type": "execute_result",
          "data": {
            "text/plain": [
              "<tf.Tensor: shape=(2, 2), dtype=int32, numpy=\n",
              "array([[ 89,  98],\n",
              "       [116, 128]], dtype=int32)>"
            ]
          },
          "metadata": {},
          "execution_count": 22
        }
      ],
      "source": [
        "# Trying Matrix multiplication with transpose rather than reshape\n",
        "\n",
        "tf.matmul(tf.transpose(X),Y) #Transpose changes the axis rather than shuffling the number as reshape does"
      ]
    },
    {
      "cell_type": "markdown",
      "source": [
        "#### Hence we see that, reshape and transpose will both give us different results"
      ],
      "metadata": {
        "id": "VUoNDKWQ0kza"
      }
    }
  ]
}