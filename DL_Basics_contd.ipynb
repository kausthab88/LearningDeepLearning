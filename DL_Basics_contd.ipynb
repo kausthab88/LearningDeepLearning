{
  "nbformat": 4,
  "nbformat_minor": 0,
  "metadata": {
    "colab": {
      "provenance": [],
      "authorship_tag": "ABX9TyM+xUJPpvG6rX8z4joSnlaA",
      "include_colab_link": true
    },
    "kernelspec": {
      "name": "python3",
      "display_name": "Python 3"
    },
    "language_info": {
      "name": "python"
    }
  },
  "cells": [
    {
      "cell_type": "markdown",
      "metadata": {
        "id": "view-in-github",
        "colab_type": "text"
      },
      "source": [
        "<a href=\"https://colab.research.google.com/github/kausthab88/LearningDeepLearning/blob/main/DL_Basics_contd.ipynb\" target=\"_parent\"><img src=\"https://colab.research.google.com/assets/colab-badge.svg\" alt=\"Open In Colab\"/></a>"
      ]
    },
    {
      "cell_type": "code",
      "execution_count": 2,
      "metadata": {
        "id": "6kanNv1X4KF5"
      },
      "outputs": [],
      "source": [
        "import tensorflow as tf"
      ]
    },
    {
      "cell_type": "markdown",
      "metadata": {
        "id": "P872MUwPl93S"
      },
      "source": [
        "### Creating Random Tensors\n",
        "\n",
        "Random tensors are tensors of some arbitrary size containing random numbers. The tensor creation process is very similar to numpy rarray creation"
      ]
    },
    {
      "cell_type": "code",
      "execution_count": 3,
      "metadata": {
        "colab": {
          "base_uri": "https://localhost:8080/"
        },
        "id": "QYL9Fp-A2sOP",
        "outputId": "84f44a7d-2a2c-49d1-8b22-bbc549194363"
      },
      "outputs": [
        {
          "output_type": "execute_result",
          "data": {
            "text/plain": [
              "<tf.Tensor: shape=(3, 2), dtype=float32, numpy=\n",
              "array([[-0.7565803 , -0.06854702],\n",
              "       [ 0.07595026, -1.2573844 ],\n",
              "       [-0.23193763, -1.8107855 ]], dtype=float32)>"
            ]
          },
          "metadata": {},
          "execution_count": 3
        }
      ],
      "source": [
        "# create two random (but the same) tensors\n",
        "\n",
        "random_1 = tf.random.Generator.from_seed(42)\n",
        "random_1 = random_1.normal(shape = (3,2))\n",
        "random_1"
      ]
    },
    {
      "cell_type": "code",
      "execution_count": 4,
      "metadata": {
        "colab": {
          "base_uri": "https://localhost:8080/"
        },
        "id": "kk6FAwigooUa",
        "outputId": "d0b9c232-36bf-4af7-c33f-acbfedbe60eb"
      },
      "outputs": [
        {
          "output_type": "execute_result",
          "data": {
            "text/plain": [
              "<tf.Tensor: shape=(3, 2), dtype=float32, numpy=\n",
              "array([[-0.7565803 , -0.06854702],\n",
              "       [ 0.07595026, -1.2573844 ],\n",
              "       [-0.23193763, -1.8107855 ]], dtype=float32)>"
            ]
          },
          "metadata": {},
          "execution_count": 4
        }
      ],
      "source": [
        "random_2 = tf.random.Generator.from_seed(42)\n",
        "random_2 = random_2.normal(shape = (3,2))\n",
        "random_2"
      ]
    },
    {
      "cell_type": "markdown",
      "source": [
        "#### **Note**\n",
        "\n",
        "Since we have used the same seed, even though we have used *random* here, the tensors will be the same. That is what seeding does. If you want to learn more about seed, please use this link:\n",
        "\n",
        "[Tensorflow Seed](https://www.tensorflow.org/api_docs/python/tf/random/set_seed)"
      ],
      "metadata": {
        "id": "wswvwQ5Y5fIq"
      }
    },
    {
      "cell_type": "code",
      "execution_count": 5,
      "metadata": {
        "colab": {
          "base_uri": "https://localhost:8080/"
        },
        "id": "PdzeEvgpov2h",
        "outputId": "4601469f-c667-4e6e-a412-6953bcbb65a8"
      },
      "outputs": [
        {
          "output_type": "execute_result",
          "data": {
            "text/plain": [
              "(<tf.Tensor: shape=(3, 2), dtype=float32, numpy=\n",
              " array([[-0.7565803 , -0.06854702],\n",
              "        [ 0.07595026, -1.2573844 ],\n",
              "        [-0.23193763, -1.8107855 ]], dtype=float32)>,\n",
              " <tf.Tensor: shape=(3, 2), dtype=float32, numpy=\n",
              " array([[-0.7565803 , -0.06854702],\n",
              "        [ 0.07595026, -1.2573844 ],\n",
              "        [-0.23193763, -1.8107855 ]], dtype=float32)>,\n",
              " <tf.Tensor: shape=(3, 2), dtype=bool, numpy=\n",
              " array([[ True,  True],\n",
              "        [ True,  True],\n",
              "        [ True,  True]])>)"
            ]
          },
          "metadata": {},
          "execution_count": 5
        }
      ],
      "source": [
        "# Are these tensors equal?\n",
        "\n",
        "random_1,random_2, random_1 == random_2"
      ]
    },
    {
      "cell_type": "markdown",
      "metadata": {
        "id": "Kbp-ydqaqJ1w"
      },
      "source": [
        "### Shuffle the order of elements in a tensor"
      ]
    },
    {
      "cell_type": "code",
      "execution_count": 6,
      "metadata": {
        "colab": {
          "base_uri": "https://localhost:8080/"
        },
        "id": "OVz7Qk30pXnF",
        "outputId": "ae114088-9d5a-46ce-c27e-9ad429a998e8"
      },
      "outputs": [
        {
          "output_type": "execute_result",
          "data": {
            "text/plain": [
              "2"
            ]
          },
          "metadata": {},
          "execution_count": 6
        }
      ],
      "source": [
        "# Shuffle a tensor (valuable when we want to shuffle our data so that the inherent order does not bias the model)\n",
        "\n",
        "not_shuffled = tf.constant([[10,7],\n",
        "                            [3,2],\n",
        "                            [5,8]])\n",
        "\n",
        "not_shuffled.ndim\n"
      ]
    },
    {
      "cell_type": "code",
      "execution_count": 7,
      "metadata": {
        "colab": {
          "base_uri": "https://localhost:8080/"
        },
        "id": "7-cSU29QrHCS",
        "outputId": "ca43499c-5f2d-4a8d-fc4c-18001a9fdd11"
      },
      "outputs": [
        {
          "output_type": "execute_result",
          "data": {
            "text/plain": [
              "<tf.Tensor: shape=(3, 2), dtype=int32, numpy=\n",
              "array([[10,  7],\n",
              "       [ 3,  2],\n",
              "       [ 5,  8]], dtype=int32)>"
            ]
          },
          "metadata": {},
          "execution_count": 7
        }
      ],
      "source": [
        "not_shuffled"
      ]
    },
    {
      "cell_type": "code",
      "execution_count": 8,
      "metadata": {
        "colab": {
          "base_uri": "https://localhost:8080/"
        },
        "id": "NXtT6gSqrLuJ",
        "outputId": "1294ad4a-6644-45fd-929d-d6abe4440bf1"
      },
      "outputs": [
        {
          "output_type": "execute_result",
          "data": {
            "text/plain": [
              "<tf.Tensor: shape=(3, 2), dtype=int32, numpy=\n",
              "array([[10,  7],\n",
              "       [ 3,  2],\n",
              "       [ 5,  8]], dtype=int32)>"
            ]
          },
          "metadata": {},
          "execution_count": 8
        }
      ],
      "source": [
        "#Shuffling the not_shuffled tensor\n",
        "\n",
        "tf.random.shuffle(not_shuffled)"
      ]
    },
    {
      "cell_type": "code",
      "execution_count": 9,
      "metadata": {
        "colab": {
          "base_uri": "https://localhost:8080/"
        },
        "id": "Btj64DxP4dWw",
        "outputId": "b7ed6db7-1284-4765-e50a-6ccdca7b94d6"
      },
      "outputs": [
        {
          "output_type": "execute_result",
          "data": {
            "text/plain": [
              "<tf.Tensor: shape=(3, 2), dtype=int32, numpy=\n",
              "array([[ 5,  8],\n",
              "       [ 3,  2],\n",
              "       [10,  7]], dtype=int32)>"
            ]
          },
          "metadata": {},
          "execution_count": 9
        }
      ],
      "source": [
        "tf.random.shuffle(not_shuffled, seed=42)"
      ]
    },
    {
      "cell_type": "code",
      "execution_count": 10,
      "metadata": {
        "colab": {
          "base_uri": "https://localhost:8080/"
        },
        "id": "S5bk852I1rXN",
        "outputId": "8f144465-7c49-4b6d-d7fd-27ba5ee5b084"
      },
      "outputs": [
        {
          "output_type": "execute_result",
          "data": {
            "text/plain": [
              "<tf.Tensor: shape=(3, 2), dtype=int32, numpy=\n",
              "array([[10,  7],\n",
              "       [ 3,  2],\n",
              "       [ 5,  8]], dtype=int32)>"
            ]
          },
          "metadata": {},
          "execution_count": 10
        }
      ],
      "source": [
        "#setting seed to get the same order in shuffle\n",
        "\n",
        "tf.random.set_seed(1)\n",
        "tf.random.shuffle(not_shuffled,seed = 1)"
      ]
    },
    {
      "cell_type": "code",
      "execution_count": 11,
      "metadata": {
        "colab": {
          "base_uri": "https://localhost:8080/"
        },
        "id": "OUuhswJB1sxC",
        "outputId": "ae906620-653b-411b-9b65-c7d0ea4c8db6"
      },
      "outputs": [
        {
          "output_type": "execute_result",
          "data": {
            "text/plain": [
              "<tf.Tensor: shape=(3, 2), dtype=int32, numpy=\n",
              "array([[10,  7],\n",
              "       [ 3,  2],\n",
              "       [ 5,  8]], dtype=int32)>"
            ]
          },
          "metadata": {},
          "execution_count": 11
        }
      ],
      "source": [
        "not_shuffled"
      ]
    },
    {
      "cell_type": "markdown",
      "source": [
        "#### **Note**\n",
        "\n",
        "The next few lines of codes will only make sense to you if you have gone through the Tensorflow Seed link shared earlier"
      ],
      "metadata": {
        "id": "nMocbrrn6SvD"
      }
    },
    {
      "cell_type": "code",
      "execution_count": 12,
      "metadata": {
        "colab": {
          "base_uri": "https://localhost:8080/"
        },
        "id": "wZr9UeflAXvr",
        "outputId": "3fa67bee-d8ce-45df-fe51-da8b9014fd52"
      },
      "outputs": [
        {
          "output_type": "execute_result",
          "data": {
            "text/plain": [
              "<tf.Tensor: shape=(3, 3), dtype=float32, numpy=\n",
              "array([[-0.29604465, -0.21134205,  0.01063002],\n",
              "       [ 1.5165398 ,  0.27305737, -0.29925638],\n",
              "       [-0.3652325 ,  0.61883307, -1.0130816 ]], dtype=float32)>"
            ]
          },
          "metadata": {},
          "execution_count": 12
        }
      ],
      "source": [
        "#generating 5 random tensors with/without operational and global seeds\n",
        "\n",
        "tensor01 = tf.random.Generator.from_seed(seed = 10)\n",
        "tensor01 = tensor01.normal(shape = (3,3))\n",
        "tensor01"
      ]
    },
    {
      "cell_type": "code",
      "execution_count": 13,
      "metadata": {
        "colab": {
          "base_uri": "https://localhost:8080/"
        },
        "id": "ShayECypAYft",
        "outputId": "afaf8184-c9c6-4956-c480-71c668567ee1"
      },
      "outputs": [
        {
          "output_type": "execute_result",
          "data": {
            "text/plain": [
              "<tf.Tensor: shape=(3, 2), dtype=float32, numpy=\n",
              "array([[-0.8757808 ,  0.3356369 ],\n",
              "       [-0.35219625, -0.30314562],\n",
              "       [-0.03882965,  0.96529824]], dtype=float32)>"
            ]
          },
          "metadata": {},
          "execution_count": 13
        }
      ],
      "source": [
        "tf.random.set_seed(10)\n",
        "tensor02 = tf.random.normal(shape = (3,2))\n",
        "tensor02"
      ]
    },
    {
      "cell_type": "code",
      "execution_count": 14,
      "metadata": {
        "colab": {
          "base_uri": "https://localhost:8080/"
        },
        "id": "NTbg6qI7BXYM",
        "outputId": "c3124b5c-1201-4e59-e182-d78a977d3efe"
      },
      "outputs": [
        {
          "output_type": "execute_result",
          "data": {
            "text/plain": [
              "<tf.Tensor: shape=(3, 2), dtype=float32, numpy=\n",
              "array([[-0.8757808 ,  0.3356369 ],\n",
              "       [-0.35219625, -0.30314562],\n",
              "       [-0.03882965,  0.96529824]], dtype=float32)>"
            ]
          },
          "metadata": {},
          "execution_count": 14
        }
      ],
      "source": [
        "tensor02"
      ]
    },
    {
      "cell_type": "code",
      "execution_count": 15,
      "metadata": {
        "colab": {
          "base_uri": "https://localhost:8080/"
        },
        "id": "zLibYGfIBKeY",
        "outputId": "327b5120-ee70-4ce3-8914-878ea819f6fe"
      },
      "outputs": [
        {
          "output_type": "execute_result",
          "data": {
            "text/plain": [
              "<tf.Tensor: shape=(3, 2), dtype=float32, numpy=\n",
              "array([[-0.22895075,  0.18573567],\n",
              "       [ 0.96057963,  0.1884016 ],\n",
              "       [-1.4445381 , -0.46771628]], dtype=float32)>"
            ]
          },
          "metadata": {},
          "execution_count": 15
        }
      ],
      "source": [
        "tf.random.set_seed(10)\n",
        "tensor03 = tf.random.normal(shape = (3,2),seed = 10)\n",
        "tensor03"
      ]
    },
    {
      "cell_type": "code",
      "execution_count": 16,
      "metadata": {
        "colab": {
          "base_uri": "https://localhost:8080/"
        },
        "id": "cHwNnrjKQIGO",
        "outputId": "b3292120-e8c4-4f9a-97b8-67e2c1d46a1c"
      },
      "outputs": [
        {
          "output_type": "execute_result",
          "data": {
            "text/plain": [
              "<tf.Tensor: shape=(3, 2), dtype=float32, numpy=\n",
              "array([[-0.8757808 ,  0.3356369 ],\n",
              "       [-0.35219625, -0.30314562],\n",
              "       [-0.03882965,  0.96529824]], dtype=float32)>"
            ]
          },
          "metadata": {},
          "execution_count": 16
        }
      ],
      "source": [
        "tf.random.set_seed(10)\n",
        "tensor05 = tf.random.normal(shape = (3,2))\n",
        "tensor05"
      ]
    },
    {
      "cell_type": "code",
      "execution_count": 17,
      "metadata": {
        "colab": {
          "base_uri": "https://localhost:8080/"
        },
        "id": "TQ62xoacV9z3",
        "outputId": "22b3fac0-7dac-4d86-95ac-044030f4cc46"
      },
      "outputs": [
        {
          "output_type": "execute_result",
          "data": {
            "text/plain": [
              "<tf.Tensor: shape=(3, 2), dtype=float32, numpy=\n",
              "array([[-0.03882965,  0.96529824],\n",
              "       [-0.8757808 ,  0.3356369 ],\n",
              "       [-0.35219625, -0.30314562]], dtype=float32)>"
            ]
          },
          "metadata": {},
          "execution_count": 17
        }
      ],
      "source": [
        "tf.random.set_seed(101)\n",
        "tf.random.shuffle(tensor05,seed = 1)"
      ]
    },
    {
      "cell_type": "markdown",
      "metadata": {
        "id": "EBpdyKJZWuFw"
      },
      "source": [
        "> Rule 4 \"If both global and the operation seed are set: Both seeds are used in conjunction to determine the random sequence"
      ]
    }
  ]
}